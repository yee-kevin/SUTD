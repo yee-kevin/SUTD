{
  "nbformat": 4,
  "nbformat_minor": 0,
  "metadata": {
    "colab": {
      "name": "lab10b_empty.ipynb",
      "provenance": [],
      "collapsed_sections": []
    },
    "kernelspec": {
      "name": "python3",
      "display_name": "Python 3"
    },
    "accelerator": "TPU"
  },
  "cells": [
    {
      "cell_type": "markdown",
      "metadata": {
        "colab_type": "text",
        "id": "HAA2XCLSQInJ"
      },
      "source": [
        "## Classification with word2vec \n",
        "\n",
        "-- Prof. Dorien Herremans\n",
        "\n",
        "We will be tackling a classification problem by first creating word embeddings, and comparing this to alternative approaches. \n",
        "\n",
        "During this tutorial, you will need some of the following libraries, let's install them first if you don't have them: "
      ]
    },
    {
      "cell_type": "code",
      "metadata": {
        "id": "O0AHw5vB1yOT",
        "colab_type": "code",
        "outputId": "6452bddf-5f50-409b-f133-db0ae1b4e15d",
        "colab": {
          "base_uri": "https://localhost:8080/",
          "height": 459
        }
      },
      "source": [
        "!pip install bs4 \n",
        "!pip install sklearn\n",
        "!pip install nltk\n",
        "!pip install gensim\n",
        "!pip install lxml"
      ],
      "execution_count": 0,
      "outputs": [
        {
          "output_type": "stream",
          "text": [
            "Requirement already satisfied: bs4 in /usr/local/lib/python3.6/dist-packages (0.0.1)\n",
            "Requirement already satisfied: beautifulsoup4 in /usr/local/lib/python3.6/dist-packages (from bs4) (4.6.3)\n",
            "Requirement already satisfied: sklearn in /usr/local/lib/python3.6/dist-packages (0.0)\n",
            "Requirement already satisfied: scikit-learn in /usr/local/lib/python3.6/dist-packages (from sklearn) (0.21.3)\n",
            "Requirement already satisfied: numpy>=1.11.0 in /usr/local/lib/python3.6/dist-packages (from scikit-learn->sklearn) (1.17.4)\n",
            "Requirement already satisfied: joblib>=0.11 in /usr/local/lib/python3.6/dist-packages (from scikit-learn->sklearn) (0.14.0)\n",
            "Requirement already satisfied: scipy>=0.17.0 in /usr/local/lib/python3.6/dist-packages (from scikit-learn->sklearn) (1.3.3)\n",
            "Requirement already satisfied: nltk in /usr/local/lib/python3.6/dist-packages (3.2.5)\n",
            "Requirement already satisfied: six in /usr/local/lib/python3.6/dist-packages (from nltk) (1.12.0)\n",
            "Requirement already satisfied: gensim in /usr/local/lib/python3.6/dist-packages (3.6.0)\n",
            "Requirement already satisfied: numpy>=1.11.3 in /usr/local/lib/python3.6/dist-packages (from gensim) (1.17.4)\n",
            "Requirement already satisfied: six>=1.5.0 in /usr/local/lib/python3.6/dist-packages (from gensim) (1.12.0)\n",
            "Requirement already satisfied: scipy>=0.18.1 in /usr/local/lib/python3.6/dist-packages (from gensim) (1.3.3)\n",
            "Requirement already satisfied: smart-open>=1.2.1 in /usr/local/lib/python3.6/dist-packages (from gensim) (1.9.0)\n",
            "Requirement already satisfied: requests in /usr/local/lib/python3.6/dist-packages (from smart-open>=1.2.1->gensim) (2.21.0)\n",
            "Requirement already satisfied: boto>=2.32 in /usr/local/lib/python3.6/dist-packages (from smart-open>=1.2.1->gensim) (2.49.0)\n",
            "Requirement already satisfied: boto3 in /usr/local/lib/python3.6/dist-packages (from smart-open>=1.2.1->gensim) (1.10.32)\n",
            "Requirement already satisfied: idna<2.9,>=2.5 in /usr/local/lib/python3.6/dist-packages (from requests->smart-open>=1.2.1->gensim) (2.8)\n",
            "Requirement already satisfied: urllib3<1.25,>=1.21.1 in /usr/local/lib/python3.6/dist-packages (from requests->smart-open>=1.2.1->gensim) (1.24.3)\n",
            "Requirement already satisfied: chardet<3.1.0,>=3.0.2 in /usr/local/lib/python3.6/dist-packages (from requests->smart-open>=1.2.1->gensim) (3.0.4)\n",
            "Requirement already satisfied: certifi>=2017.4.17 in /usr/local/lib/python3.6/dist-packages (from requests->smart-open>=1.2.1->gensim) (2019.11.28)\n",
            "Requirement already satisfied: jmespath<1.0.0,>=0.7.1 in /usr/local/lib/python3.6/dist-packages (from boto3->smart-open>=1.2.1->gensim) (0.9.4)\n",
            "Requirement already satisfied: s3transfer<0.3.0,>=0.2.0 in /usr/local/lib/python3.6/dist-packages (from boto3->smart-open>=1.2.1->gensim) (0.2.1)\n",
            "Requirement already satisfied: botocore<1.14.0,>=1.13.32 in /usr/local/lib/python3.6/dist-packages (from boto3->smart-open>=1.2.1->gensim) (1.13.32)\n",
            "Requirement already satisfied: docutils<0.16,>=0.10 in /usr/local/lib/python3.6/dist-packages (from botocore<1.14.0,>=1.13.32->boto3->smart-open>=1.2.1->gensim) (0.15.2)\n",
            "Requirement already satisfied: python-dateutil<2.8.1,>=2.1; python_version >= \"2.7\" in /usr/local/lib/python3.6/dist-packages (from botocore<1.14.0,>=1.13.32->boto3->smart-open>=1.2.1->gensim) (2.6.1)\n",
            "Requirement already satisfied: lxml in /usr/local/lib/python3.6/dist-packages (4.2.6)\n"
          ],
          "name": "stdout"
        }
      ]
    },
    {
      "cell_type": "markdown",
      "metadata": {
        "id": "L2yp5xfI15HJ",
        "colab_type": "text"
      },
      "source": [
        "Now we can import some libraries that we will use:"
      ]
    },
    {
      "cell_type": "code",
      "metadata": {
        "colab_type": "code",
        "id": "aCtMQEnRQjhV",
        "colab": {}
      },
      "source": [
        "import logging\n",
        "import pandas as pd\n",
        "import numpy as np\n",
        "from numpy import random\n",
        "import gensim\n",
        "import nltk\n",
        "import lxml\n",
        "from sklearn.model_selection import train_test_split\n",
        "from sklearn.feature_extraction.text import CountVectorizer, TfidfVectorizer\n",
        "from sklearn.metrics import accuracy_score, confusion_matrix, classification_report\n",
        "import matplotlib.pyplot as plt\n",
        "\n",
        "%matplotlib inline"
      ],
      "execution_count": 0,
      "outputs": []
    },
    {
      "cell_type": "markdown",
      "metadata": {
        "colab_type": "text",
        "id": "368EVM3_QInK"
      },
      "source": [
        "## TFIDF with logistic regression\n",
        "\n",
        "### Preparing the dataset\n",
        "\n",
        "The classification problem at hand is to predict the tag that belongs to a stack overflow post. The data from Google BigQuery is publicly available at this Cloud Storage URL:\n",
        "\n",
        "https://storage.googleapis.com/tensorflow-workshop-examples/stack-overflow-data.csv.\n",
        " \n",
        " We can read it directly into a pandas dataframe. \n"
      ]
    },
    {
      "cell_type": "code",
      "metadata": {
        "id": "dBLM0vEjyarI",
        "colab_type": "code",
        "colab": {}
      },
      "source": [
        "url = \"https://storage.googleapis.com/tensorflow-workshop-examples/stack-overflow-data.csv\"\n",
        "df = pd.read_csv(url, encoding = 'latin-1')"
      ],
      "execution_count": 0,
      "outputs": []
    },
    {
      "cell_type": "markdown",
      "metadata": {
        "id": "JMzTr6hCQInM",
        "colab_type": "text"
      },
      "source": [
        "Let's start by having a look at our data: "
      ]
    },
    {
      "cell_type": "code",
      "metadata": {
        "colab_type": "code",
        "id": "3758TYmIQInQ",
        "outputId": "cc430040-aa7c-43c2-b34f-e3a07b7e1005",
        "colab": {
          "base_uri": "https://localhost:8080/",
          "height": 342
        }
      },
      "source": [
        "# only keep data that has a tag (is labeled): \n",
        "df = df[pd.notnull(df['tags'])]\n",
        "# display first ten rows:\n",
        "df.head(10)"
      ],
      "execution_count": 0,
      "outputs": [
        {
          "output_type": "execute_result",
          "data": {
            "text/html": [
              "<div>\n",
              "<style scoped>\n",
              "    .dataframe tbody tr th:only-of-type {\n",
              "        vertical-align: middle;\n",
              "    }\n",
              "\n",
              "    .dataframe tbody tr th {\n",
              "        vertical-align: top;\n",
              "    }\n",
              "\n",
              "    .dataframe thead th {\n",
              "        text-align: right;\n",
              "    }\n",
              "</style>\n",
              "<table border=\"1\" class=\"dataframe\">\n",
              "  <thead>\n",
              "    <tr style=\"text-align: right;\">\n",
              "      <th></th>\n",
              "      <th>post</th>\n",
              "      <th>tags</th>\n",
              "    </tr>\n",
              "  </thead>\n",
              "  <tbody>\n",
              "    <tr>\n",
              "      <th>0</th>\n",
              "      <td>what is causing this behavior  in our c# datet...</td>\n",
              "      <td>c#</td>\n",
              "    </tr>\n",
              "    <tr>\n",
              "      <th>1</th>\n",
              "      <td>have dynamic html load as if it was in an ifra...</td>\n",
              "      <td>asp.net</td>\n",
              "    </tr>\n",
              "    <tr>\n",
              "      <th>2</th>\n",
              "      <td>how to convert a float value in to min:sec  i ...</td>\n",
              "      <td>objective-c</td>\n",
              "    </tr>\n",
              "    <tr>\n",
              "      <th>3</th>\n",
              "      <td>.net framework 4 redistributable  just wonderi...</td>\n",
              "      <td>.net</td>\n",
              "    </tr>\n",
              "    <tr>\n",
              "      <th>4</th>\n",
              "      <td>trying to calculate and print the mean and its...</td>\n",
              "      <td>python</td>\n",
              "    </tr>\n",
              "    <tr>\n",
              "      <th>5</th>\n",
              "      <td>how to give alias name for my website  i have ...</td>\n",
              "      <td>asp.net</td>\n",
              "    </tr>\n",
              "    <tr>\n",
              "      <th>6</th>\n",
              "      <td>window.open() returns null in angularjs  it wo...</td>\n",
              "      <td>angularjs</td>\n",
              "    </tr>\n",
              "    <tr>\n",
              "      <th>7</th>\n",
              "      <td>identifying server timeout quickly in iphone  ...</td>\n",
              "      <td>iphone</td>\n",
              "    </tr>\n",
              "    <tr>\n",
              "      <th>8</th>\n",
              "      <td>unknown method key  error in rails 2.3.8 unit ...</td>\n",
              "      <td>ruby-on-rails</td>\n",
              "    </tr>\n",
              "    <tr>\n",
              "      <th>9</th>\n",
              "      <td>from the include  how to show and hide the con...</td>\n",
              "      <td>angularjs</td>\n",
              "    </tr>\n",
              "  </tbody>\n",
              "</table>\n",
              "</div>"
            ],
            "text/plain": [
              "                                                post           tags\n",
              "0  what is causing this behavior  in our c# datet...             c#\n",
              "1  have dynamic html load as if it was in an ifra...        asp.net\n",
              "2  how to convert a float value in to min:sec  i ...    objective-c\n",
              "3  .net framework 4 redistributable  just wonderi...           .net\n",
              "4  trying to calculate and print the mean and its...         python\n",
              "5  how to give alias name for my website  i have ...        asp.net\n",
              "6  window.open() returns null in angularjs  it wo...      angularjs\n",
              "7  identifying server timeout quickly in iphone  ...         iphone\n",
              "8  unknown method key  error in rails 2.3.8 unit ...  ruby-on-rails\n",
              "9  from the include  how to show and hide the con...      angularjs"
            ]
          },
          "metadata": {
            "tags": []
          },
          "execution_count": 39
        }
      ]
    },
    {
      "cell_type": "markdown",
      "metadata": {
        "id": "13ECXgs-xn9p",
        "colab_type": "text"
      },
      "source": [
        "The size of our model will depend on how many unqiue words are in the dataset (meaning in the article text or posts): "
      ]
    },
    {
      "cell_type": "code",
      "metadata": {
        "colab_type": "code",
        "id": "BvAXbtE5QInW",
        "outputId": "ea6663f1-a7dd-491d-e726-54bc09323bd5",
        "colab": {
          "base_uri": "https://localhost:8080/",
          "height": 33
        }
      },
      "source": [
        "# Count the number of words: \n",
        "df['post'].apply(lambda x: len(x.split(' '))).sum()"
      ],
      "execution_count": 0,
      "outputs": [
        {
          "output_type": "execute_result",
          "data": {
            "text/plain": [
              "10286120"
            ]
          },
          "metadata": {
            "tags": []
          },
          "execution_count": 40
        }
      ]
    },
    {
      "cell_type": "markdown",
      "metadata": {
        "colab_type": "text",
        "id": "LSifacVqQIna"
      },
      "source": [
        "We have over 10 million words in the data. That's a lot! \n",
        "\n",
        "\n",
        "Let's visualise our dataset: \n",
        "\n"
      ]
    },
    {
      "cell_type": "code",
      "metadata": {
        "colab_type": "code",
        "id": "O-DdZVX9QInb",
        "outputId": "51821afa-c716-46e8-d6bf-cb1f6a98b5f8",
        "colab": {
          "base_uri": "https://localhost:8080/",
          "height": 318
        }
      },
      "source": [
        "# visualising dataset\n",
        "plt.figure(figsize=(10,4))\n",
        "df.tags.value_counts().plot(kind='bar');"
      ],
      "execution_count": 0,
      "outputs": [
        {
          "output_type": "display_data",
          "data": {
            "image/png": "[encoded data removed]",
            "text/plain": [
              "<Figure size 720x288 with 1 Axes>"
            ]
          },
          "metadata": {
            "tags": []
          }
        }
      ]
    },
    {
      "cell_type": "markdown",
      "metadata": {
        "colab_type": "text",
        "id": "5UwHhJXMQIng"
      },
      "source": [
        "As you can see, the classes are very well balanced.\n",
        "\n",
        "Now let's have a look at the data of the posts ('post' columns) in more detail: "
      ]
    },
    {
      "cell_type": "code",
      "metadata": {
        "colab_type": "code",
        "id": "2Q3m4GxxQInh",
        "outputId": "e285f2ae-1a0b-4625-de89-0609415b9251",
        "colab": {
          "base_uri": "https://localhost:8080/",
          "height": 53
        }
      },
      "source": [
        "print(df['post'].values[10])"
      ],
      "execution_count": 0,
      "outputs": [
        {
          "output_type": "stream",
          "text": [
            "when we need interface c# <blockquote>    <strong>possible duplicate:</strong><br>   <a href= https://stackoverflow.com/questions/240152/why-would-i-want-to-use-interfaces >why would i want to use interfaces </a>   <a href= https://stackoverflow.com/questions/9451868/why-i-need-interface >why i need interface </a>    </blockquote>     i want to know where and when to use it     for example    <pre><code>interface idemo {  // function prototype  public void show(); }  // first class using the interface class myclass1 : idemo {  public void show()  {   // function body comes here   response.write( i m in myclass );  }  }  // second class using the interface class myclass2 : idemo {  public void show()   {   // function body comes here   response.write( i m in myclass2 );   response.write( so  what  );  } </code></pre>   these two classes has the same function name with different body. this can be even achieved without interface. then why we need an interface where and when to use it\n"
          ],
          "name": "stdout"
        }
      ]
    },
    {
      "cell_type": "markdown",
      "metadata": {
        "colab_type": "text",
        "id": "nbSGI0FQQInu"
      },
      "source": [
        "As you can see, the text needs to be cleaned up a bit. Below we use the nltk toolkit to remove spaces, html tags, stopwords, symbols etc. Below we define a function to remove stop words, replace / \\ and other symbols with spaces, ..."
      ]
    },
    {
      "cell_type": "code",
      "metadata": {
        "colab_type": "code",
        "id": "bydjpKCBQInv",
        "outputId": "d89dbfcb-44e5-443e-e2bf-8742e9daa159",
        "colab": {
          "base_uri": "https://localhost:8080/",
          "height": 50
        }
      },
      "source": [
        "# note: slower students may wish to skip this step to finish the lab in class\n",
        "from nltk.corpus import stopwords\n",
        "import re\n",
        "from bs4 import BeautifulSoup\n",
        "\n",
        "# load a list of stop words\n",
        "nltk.download('stopwords')\n",
        "\n",
        "REPLACE_BY_SPACE_RE = re.compile('[/(){}\\[\\]\\|@,;]')\n",
        "BAD_SYMBOLS_RE = re.compile('[^0-9a-z #+_]')\n",
        "STOPWORDS = set(stopwords.words('english'))\n",
        "\n",
        "def clean_text(text):\n",
        "    \"\"\"\n",
        "        text: a string \n",
        "        return: modified initial string\n",
        "    \"\"\"\n",
        "    text = BeautifulSoup(text, 'html.parser').text # HTML decoding\n",
        "    text = text.lower() # lowercase text\n",
        "    text = REPLACE_BY_SPACE_RE.sub(' ', text) # replace REPLACE_BY_SPACE_RE symbols by space in text\n",
        "    text = BAD_SYMBOLS_RE.sub('', text) # delete symbols which are in BAD_SYMBOLS_RE from text\n",
        "    text = ' '.join(word for word in text.split() if word not in STOPWORDS) # delete stopwors from text\n",
        "    return text"
      ],
      "execution_count": 0,
      "outputs": [
        {
          "output_type": "stream",
          "text": [
            "[nltk_data] Downloading package stopwords to /root/nltk_data...\n",
            "[nltk_data]   Package stopwords is already up-to-date!\n"
          ],
          "name": "stdout"
        }
      ]
    },
    {
      "cell_type": "markdown",
      "metadata": {
        "id": "SiiOIj3L_NDH",
        "colab_type": "text"
      },
      "source": [
        "Now we can apply the newly defined function on the column of df 'post'. "
      ]
    },
    {
      "cell_type": "code",
      "metadata": {
        "colab_type": "code",
        "id": "6A8nlP0hQInx",
        "colab": {}
      },
      "source": [
        "df['post'] = df['post'].apply(clean_text)"
      ],
      "execution_count": 0,
      "outputs": []
    },
    {
      "cell_type": "markdown",
      "metadata": {
        "id": "AkBB_8za_SE5",
        "colab_type": "text"
      },
      "source": [
        "Let's check the results: "
      ]
    },
    {
      "cell_type": "code",
      "metadata": {
        "colab_type": "code",
        "id": "MlL2uGKsQIn0",
        "outputId": "e7ad74a5-fdbd-4447-b05a-c6412aeffdb0",
        "colab": {
          "base_uri": "https://localhost:8080/",
          "height": 53
        }
      },
      "source": [
        "print(df['post'].values[0])"
      ],
      "execution_count": 0,
      "outputs": [
        {
          "output_type": "stream",
          "text": [
            "causing behavior c# datetime type test public void sadness var datetime datetimeutcnow assertthat datetime isequalto datetimeparse datetimetostring failed expected 20111031 061244000 20111031 061244350 wish know happening behind scenes tostring etc cause behavior edit seeing jon answer test public void newsadness var datetime datetimeutcnow assertthat datetime isequalto datetimeparse datetimetostring result expected 20111031 120304161 20111031 063304161 result capital small reading docs still unclear\n"
          ],
          "name": "stdout"
        }
      ]
    },
    {
      "cell_type": "markdown",
      "metadata": {
        "colab_type": "text",
        "id": "YTkqUfwzQIn8"
      },
      "source": [
        "This looks a lot better!\n",
        "\n",
        "Now how many unique words do we have in this cleaned up dataset? "
      ]
    },
    {
      "cell_type": "code",
      "metadata": {
        "colab_type": "code",
        "id": "4oV5baXxQIn8",
        "scrolled": true,
        "outputId": "8996f610-e8a7-4a00-cc0c-e2d6dfc69b8b",
        "colab": {
          "base_uri": "https://localhost:8080/",
          "height": 33
        }
      },
      "source": [
        "df['post'].apply(lambda x: len(x.split(' '))).sum()"
      ],
      "execution_count": 0,
      "outputs": [
        {
          "output_type": "execute_result",
          "data": {
            "text/plain": [
              "3424194"
            ]
          },
          "metadata": {
            "tags": []
          },
          "execution_count": 46
        }
      ]
    },
    {
      "cell_type": "markdown",
      "metadata": {
        "colab_type": "text",
        "id": "gpllc3QyQIoA"
      },
      "source": [
        "Now we have over 3 million words to work with.\n",
        "\n",
        "Before we start creating some classifiers, let's split our dataset in a test set (for evaluation) and training set: "
      ]
    },
    {
      "cell_type": "code",
      "metadata": {
        "colab_type": "code",
        "id": "ylA7e4H_QIoB",
        "outputId": "fed78f57-245c-47e4-961d-5efe8503c7ac",
        "colab": {
          "base_uri": "https://localhost:8080/",
          "height": 50
        }
      },
      "source": [
        "X = df.post\n",
        "y = df.tags\n",
        "X_train, X_test, y_train, y_test = train_test_split(X, y, test_size=0.3, random_state = 2)\n",
        "print(\"X_train example: \" + np.asarray(X_train)[0])\n",
        "print(\"y_train example: \" + np.asarray(y_train)[0])"
      ],
      "execution_count": 0,
      "outputs": [
        {
          "output_type": "stream",
          "text": [
            "X_train example: rails routing resource namespace starting parameter 2 namespaces api v1 accounts users resources want map routing follows resources api v1 account_id resource id ie api v1 1 users 2 example 1 stands account id 2 stands user id accomplish\n",
            "y_train example: ruby-on-rails\n"
          ],
          "name": "stdout"
        }
      ]
    },
    {
      "cell_type": "markdown",
      "metadata": {
        "colab_type": "text",
        "id": "cDHptCZqQIoU"
      },
      "source": [
        "### Logistic regression\n",
        "\n",
        "Now that we have our features, we can train a classifier to try to predict the tag of a post. We will start with logistic regression and TFIDF representation which provides a nice baseline for this task. \n",
        "\n",
        "To make the vectorizer => transformer => classifier easier to work with, we will use Pipeline class in Scikit-Learn that behaves like a compound classifier."
      ]
    },
    {
      "cell_type": "code",
      "metadata": {
        "colab_type": "code",
        "id": "p8IMmMZWQIoV",
        "outputId": "ba8d44eb-b84f-4823-a1e8-45164bddf59d",
        "colab": {
          "base_uri": "https://localhost:8080/",
          "height": 442
        }
      },
      "source": [
        "from sklearn.linear_model import LogisticRegression\n",
        "from sklearn.pipeline import Pipeline\n",
        "from sklearn.feature_extraction.text import TfidfTransformer\n",
        "# we define a Pipeline, which first represents our features as TFID\n",
        "# Then performs logistic regression\n",
        "logreg = Pipeline([('vect', CountVectorizer()),\n",
        "                   ('tfidf', TfidfTransformer()),('clf', LogisticRegression(n_jobs=1, C=1e5)),\n",
        "])\n",
        "logreg.fit(X_train, y_train)"
      ],
      "execution_count": 0,
      "outputs": [
        {
          "output_type": "stream",
          "text": [
            "/usr/local/lib/python3.6/dist-packages/sklearn/linear_model/logistic.py:432: FutureWarning: Default solver will be changed to 'lbfgs' in 0.22. Specify a solver to silence this warning.\n",
            "  FutureWarning)\n",
            "/usr/local/lib/python3.6/dist-packages/sklearn/linear_model/logistic.py:469: FutureWarning: Default multi_class will be changed to 'auto' in 0.22. Specify the multi_class option to silence this warning.\n",
            "  \"this warning.\", FutureWarning)\n"
          ],
          "name": "stderr"
        },
        {
          "output_type": "execute_result",
          "data": {
            "text/plain": [
              "Pipeline(memory=None,\n",
              "         steps=[('vect',\n",
              "                 CountVectorizer(analyzer='word', binary=False,\n",
              "                                 decode_error='strict',\n",
              "                                 dtype=<class 'numpy.int64'>, encoding='utf-8',\n",
              "                                 input='content', lowercase=True, max_df=1.0,\n",
              "                                 max_features=None, min_df=1,\n",
              "                                 ngram_range=(1, 1), preprocessor=None,\n",
              "                                 stop_words=None, strip_accents=None,\n",
              "                                 token_pattern='(?u)\\\\b\\\\w\\\\w+\\\\b',\n",
              "                                 tokenizer=None, vocabulary=None)),\n",
              "                ('tfidf',\n",
              "                 TfidfTransformer(norm='l2', smooth_idf=True,\n",
              "                                  sublinear_tf=False, use_idf=True)),\n",
              "                ('clf',\n",
              "                 LogisticRegression(C=100000.0, class_weight=None, dual=False,\n",
              "                                    fit_intercept=True, intercept_scaling=1,\n",
              "                                    l1_ratio=None, max_iter=100,\n",
              "                                    multi_class='warn', n_jobs=1, penalty='l2',\n",
              "                                    random_state=None, solver='warn',\n",
              "                                    tol=0.0001, verbose=0, warm_start=False))],\n",
              "         verbose=False)"
            ]
          },
          "metadata": {
            "tags": []
          },
          "execution_count": 14
        }
      ]
    },
    {
      "cell_type": "markdown",
      "metadata": {
        "id": "plgMq5lA27-_",
        "colab_type": "text"
      },
      "source": [
        "How well does it work? "
      ]
    },
    {
      "cell_type": "code",
      "metadata": {
        "colab_type": "code",
        "id": "ZGSVTzWRQIoY",
        "outputId": "8d363d64-fa96-49a4-e1ef-1a0ce9bf3bbb",
        "colab": {
          "base_uri": "https://localhost:8080/",
          "height": 508
        }
      },
      "source": [
        "# to show the computation time: \n",
        "%%time\n",
        "y_pred = logreg.predict(X_test)\n",
        "print('accuracy %s' % accuracy_score(y_pred, y_test))\n",
        "print(classification_report(y_test, y_pred))"
      ],
      "execution_count": 0,
      "outputs": [
        {
          "output_type": "stream",
          "text": [
            "accuracy 0.7751666666666667\n",
            "               precision    recall  f1-score   support\n",
            "\n",
            "         .net       0.67      0.62      0.64       634\n",
            "      android       0.93      0.89      0.91       650\n",
            "    angularjs       0.96      0.94      0.95       638\n",
            "      asp.net       0.77      0.72      0.74       574\n",
            "            c       0.82      0.82      0.82       589\n",
            "           c#       0.63      0.61      0.62       608\n",
            "          c++       0.76      0.74      0.75       591\n",
            "          css       0.79      0.84      0.81       586\n",
            "         html       0.61      0.66      0.64       596\n",
            "          ios       0.61      0.60      0.60       581\n",
            "       iphone       0.63      0.66      0.64       593\n",
            "         java       0.82      0.83      0.82       581\n",
            "   javascript       0.79      0.77      0.78       611\n",
            "       jquery       0.84      0.86      0.85       596\n",
            "        mysql       0.80      0.78      0.79       612\n",
            "  objective-c       0.65      0.64      0.64       599\n",
            "          php       0.82      0.85      0.83       596\n",
            "       python       0.88      0.92      0.90       601\n",
            "ruby-on-rails       0.95      0.95      0.95       552\n",
            "          sql       0.75      0.81      0.78       612\n",
            "\n",
            "     accuracy                           0.78     12000\n",
            "    macro avg       0.77      0.78      0.77     12000\n",
            " weighted avg       0.78      0.78      0.77     12000\n",
            "\n",
            "CPU times: user 1.12 s, sys: 7.65 ms, total: 1.12 s\n",
            "Wall time: 1.13 s\n"
          ],
          "name": "stdout"
        }
      ]
    },
    {
      "cell_type": "markdown",
      "metadata": {
        "id": "zAAVJw44xn_c",
        "colab_type": "text"
      },
      "source": [
        "That's quite a good accuracy. Now let's see if we can combine word2vec with logistic regression by feeding the new embedded representation to our logistic regression instead of the bag of words. "
      ]
    },
    {
      "cell_type": "markdown",
      "metadata": {
        "colab_type": "text",
        "id": "9gSX1ysMQIoc"
      },
      "source": [
        "## Word2vec embedding and Logistic Regression"
      ]
    },
    {
      "cell_type": "markdown",
      "metadata": {
        "colab_type": "text",
        "id": "Ubl-sOB8W2f1"
      },
      "source": [
        "Let's load a pretrained word2vec model, and use the embedding representation as input to a simple classifier (i.e. logistic regression). \n",
        "\n",
        "You can use the word2vec model you trained in lab 10a, or load this (quite big, 1.5GB) pretrained word2vec model: https://s3.amazonaws.com/dl4j-distribution/GoogleNews-vectors-negative300.bin.gz\n",
        "\n",
        "Note: it can take a while to load. (takes 2min for me) "
      ]
    },
    {
      "cell_type": "code",
      "metadata": {
        "id": "KgU9iEDo0h7c",
        "colab_type": "code",
        "outputId": "feae1bca-6119-4cd9-8539-7ad145e90cc0",
        "colab": {
          "base_uri": "https://localhost:8080/",
          "height": 181
        }
      },
      "source": [
        "!pip install wget\n",
        "import wget\n",
        "wget.download(\"https://s3.amazonaws.com/dl4j-distribution/GoogleNews-vectors-negative300.bin.gz\")"
      ],
      "execution_count": 0,
      "outputs": [
        {
          "output_type": "stream",
          "text": [
            "Collecting wget\n",
            "  Downloading https://files.pythonhosted.org/packages/47/6a/62e288da7bcda82b935ff0c6cfe542970f04e29c756b0e147251b2fb251f/wget-3.2.zip\n",
            "Building wheels for collected packages: wget\n",
            "  Building wheel for wget (setup.py) ... \u001b[?25l\u001b[?25hdone\n",
            "  Created wheel for wget: filename=wget-3.2-cp36-none-any.whl size=9681 sha256=5868bbbae5d5bfc63dd7da6f80be35baac65151382a77dd144decf3da6e6ae98\n",
            "  Stored in directory: /root/.cache/pip/wheels/40/15/30/7d8f7cea2902b4db79e3fea550d7d7b85ecb27ef992b618f3f\n",
            "Successfully built wget\n",
            "Installing collected packages: wget\n",
            "Successfully installed wget-3.2\n"
          ],
          "name": "stdout"
        },
        {
          "output_type": "execute_result",
          "data": {
            "text/plain": [
              "'GoogleNews-vectors-negative300.bin.gz'"
            ]
          },
          "metadata": {
            "tags": []
          },
          "execution_count": 16
        }
      ]
    },
    {
      "cell_type": "markdown",
      "metadata": {
        "id": "-pM8IWFy0jDH",
        "colab_type": "text"
      },
      "source": [
        "Once the file is on your system: "
      ]
    },
    {
      "cell_type": "code",
      "metadata": {
        "colab_type": "code",
        "id": "Cjipngb9QIod",
        "outputId": "a085eb7f-fa52-4694-d832-34721ab08041",
        "colab": {
          "base_uri": "https://localhost:8080/",
          "height": 119
        }
      },
      "source": [
        "%%time\n",
        "from gensim.models import Word2Vec\n",
        "wv = gensim.models.KeyedVectors.load_word2vec_format(\"GoogleNews-vectors-negative300.bin.gz\", binary=True)\n",
        "wv.init_sims(replace=True)\n",
        "print('Model loaded')"
      ],
      "execution_count": 0,
      "outputs": [
        {
          "output_type": "stream",
          "text": [
            "/usr/local/lib/python3.6/dist-packages/smart_open/smart_open_lib.py:402: UserWarning: This function is deprecated, use smart_open.open instead. See the migration notes for details: https://github.com/RaRe-Technologies/smart_open/blob/master/README.rst#migrating-to-the-new-open-function\n",
            "  'See the migration notes for details: %s' % _MIGRATION_NOTES_URL\n"
          ],
          "name": "stderr"
        },
        {
          "output_type": "stream",
          "text": [
            "Model loaded\n",
            "CPU times: user 2min 5s, sys: 4.82 s, total: 2min 10s\n",
            "Wall time: 2min 10s\n"
          ],
          "name": "stdout"
        }
      ]
    },
    {
      "cell_type": "markdown",
      "metadata": {
        "id": "E-W7lH8wxn_2",
        "colab_type": "text"
      },
      "source": [
        "If you are interested how good these pretrained embeddings are, you could try some of the similarity tests we did in Lab 10a. "
      ]
    },
    {
      "cell_type": "markdown",
      "metadata": {
        "colab_type": "text",
        "id": "mC4XwSuzQIoo"
      },
      "source": [
        "As we have multiple words for each post, we will need to somehow combine them. A common way to achieve this is by averaging the\n",
        "word vectors per document. It could also be summation or weighted addition. The function below takes as input a list of words and the w2v model wv. Then it retrieves the vector embeddings for each of the words and averages them. "
      ]
    },
    {
      "cell_type": "code",
      "metadata": {
        "colab_type": "code",
        "id": "lbSLtiwyQIoo",
        "colab": {}
      },
      "source": [
        "def word_averaging(wv, words):\n",
        "    # averages a set of words 'words' given their wordvectors 'wv'\n",
        "    \n",
        "    all_words, mean = set(), []\n",
        "    \n",
        "    # for each word in the list of words\n",
        "    for word in words:\n",
        "        # if the words are alread vectors, then just append them\n",
        "        if isinstance(word, np.ndarray):\n",
        "            mean.append(word)\n",
        "        # if not: first get the vector embedding for the words\n",
        "        elif word in wv.vocab:\n",
        "            mean.append(wv.syn0norm[wv.vocab[word].index])\n",
        "            all_words.add(wv.vocab[word].index)\n",
        "\n",
        "    \n",
        "    if not mean:\n",
        "        # error handling in case mean cannot be calculated\n",
        "        logging.warning(\"cannot compute similarity with no input %s\", words)\n",
        "        return np.zeros(wv.vector_size,)\n",
        "\n",
        "    # use gensim's method to calculate the mean of all the words appended to mean list\n",
        "    mean = gensim.matutils.unitvec(np.array(mean).mean(axis=0)).astype(np.float32)\n",
        "    return mean\n",
        "\n",
        "def  word_averaging_list(wv, text_list):\n",
        "    return np.vstack([word_averaging(wv, post) for post in text_list ])"
      ],
      "execution_count": 0,
      "outputs": []
    },
    {
      "cell_type": "markdown",
      "metadata": {
        "id": "Tm_febK-xoAC",
        "colab_type": "text"
      },
      "source": [
        "Below, we explore a different way to create tokens out of sentences, by using the nltk toolkit. "
      ]
    },
    {
      "cell_type": "code",
      "metadata": {
        "colab_type": "code",
        "id": "jlyXtYm1QIos",
        "outputId": "f42130b7-aeb8-4bc1-d627-59ae51d16d5a",
        "colab": {
          "base_uri": "https://localhost:8080/",
          "height": 50
        }
      },
      "source": [
        "import nltk.data\n",
        "nltk.download('punkt')\n",
        "def w2v_tokenize_text(text):\n",
        "    tokens = []\n",
        "    # create tokens, a list of words, for each post. This function will do some cleaning tokens = []\n",
        "    for sent in nltk.sent_tokenize(text, language='english'):\n",
        "        for word in nltk.word_tokenize(sent, language='english'):\n",
        "            if len(word) < 2:\n",
        "                continue\n",
        "            tokens.append(word)\n",
        "    return tokens"
      ],
      "execution_count": 0,
      "outputs": [
        {
          "output_type": "stream",
          "text": [
            "[nltk_data] Downloading package punkt to /root/nltk_data...\n",
            "[nltk_data]   Unzipping tokenizers/punkt.zip.\n"
          ],
          "name": "stdout"
        }
      ]
    },
    {
      "cell_type": "markdown",
      "metadata": {
        "id": "ZeuQn-3GxoAQ",
        "colab_type": "text"
      },
      "source": [
        "Let's split the dataset in training and test set like before, and tokenize each of the datasets"
      ]
    },
    {
      "cell_type": "code",
      "metadata": {
        "colab_type": "code",
        "id": "CA1Wrn9-QIot",
        "outputId": "e174364a-3fb1-421d-e58e-0f8764e385a7",
        "colab": {
          "base_uri": "https://localhost:8080/",
          "height": 201
        }
      },
      "source": [
        "train, test = train_test_split(df, test_size=0.3, random_state = 42)\n",
        "print(np.asarray(train).shape)\n",
        "print(np.asarray(test).shape)\n",
        "print(np.asarray(train)[0])\n",
        "print(np.asarray(test)[0])\n",
        "test_tokenized = test.apply(lambda r: w2v_tokenize_text(r['post']), axis=1).values\n",
        "print(test_tokenized.shape)\n",
        "print(test_tokenized[0])\n",
        "train_tokenized = train.apply(lambda r: w2v_tokenize_text(r['post']), axis=1).values\n",
        "print(train_tokenized.shape)\n",
        "print(train_tokenized[0])"
      ],
      "execution_count": 0,
      "outputs": [
        {
          "output_type": "stream",
          "text": [
            "(28000, 2)\n",
            "(12000, 2)\n",
            "['getting server tag well formed error th style width200px aspcheckbox id utilitychanged # eval id runat server enabled true onchange utilitychanged # eval id checked # converttoboolean eval checked th error server tag well formedi cant seem debug itany help guys edit commented ochange still getting error directly code binding different field using datasource works fine th style width200px # eval name th doesnt work th style width200px aspcheckbox id utilitychanged# eval id runat server enabled true checked # converttoboolean eval checked th'\n",
            " 'asp.net']\n",
            "['template object property class implemented working template class llist want object template class property new class called factory2 factory2 class looks like #include llisth templatetypename class factory2 public factory2 factory2 private llistt arr defined constructor destructor factory2 implement llist arr object llist class constructor destructor get errorundefined reference constructor llistintllist llistintllist'\n",
            " 'c++']\n",
            "(12000,)\n",
            "['template', 'object', 'property', 'class', 'implemented', 'working', 'template', 'class', 'llist', 'want', 'object', 'template', 'class', 'property', 'new', 'class', 'called', 'factory2', 'factory2', 'class', 'looks', 'like', 'include', 'llisth', 'templatetypename', 'class', 'factory2', 'public', 'factory2', 'factory2', 'private', 'llistt', 'arr', 'defined', 'constructor', 'destructor', 'factory2', 'implement', 'llist', 'arr', 'object', 'llist', 'class', 'constructor', 'destructor', 'get', 'errorundefined', 'reference', 'constructor', 'llistintllist', 'llistintllist']\n",
            "(28000,)\n",
            "['getting', 'server', 'tag', 'well', 'formed', 'error', 'th', 'style', 'width200px', 'aspcheckbox', 'id', 'utilitychanged', 'eval', 'id', 'runat', 'server', 'enabled', 'true', 'onchange', 'utilitychanged', 'eval', 'id', 'checked', 'converttoboolean', 'eval', 'checked', 'th', 'error', 'server', 'tag', 'well', 'formedi', 'cant', 'seem', 'debug', 'itany', 'help', 'guys', 'edit', 'commented', 'ochange', 'still', 'getting', 'error', 'directly', 'code', 'binding', 'different', 'field', 'using', 'datasource', 'works', 'fine', 'th', 'style', 'width200px', 'eval', 'name', 'th', 'doesnt', 'work', 'th', 'style', 'width200px', 'aspcheckbox', 'id', 'utilitychanged', 'eval', 'id', 'runat', 'server', 'enabled', 'true', 'checked', 'converttoboolean', 'eval', 'checked', 'th']\n"
          ],
          "name": "stdout"
        }
      ]
    },
    {
      "cell_type": "markdown",
      "metadata": {
        "id": "rh11CM3ZxoAa",
        "colab_type": "text"
      },
      "source": [
        "We can then average the position per post in this new dataset using the functions we defined above and based on our word2vec model wv."
      ]
    },
    {
      "cell_type": "code",
      "metadata": {
        "colab_type": "code",
        "id": "pqG34rU6QIoy",
        "outputId": "fb451c65-0ccf-4409-a575-4a4373ddfd54",
        "colab": {
          "base_uri": "https://localhost:8080/",
          "height": 115
        }
      },
      "source": [
        "X_train_word_average = word_averaging_list(wv,train_tokenized)\n",
        "X_test_word_average = word_averaging_list(wv,test_tokenized)"
      ],
      "execution_count": 0,
      "outputs": [
        {
          "output_type": "stream",
          "text": [
            "/usr/local/lib/python3.6/dist-packages/ipykernel_launcher.py:13: DeprecationWarning: Call to deprecated `syn0norm` (Attribute will be removed in 4.0.0, use self.wv.vectors_norm instead).\n",
            "  del sys.path[0]\n",
            "/usr/local/lib/python3.6/dist-packages/gensim/matutils.py:737: FutureWarning: Conversion of the second argument of issubdtype from `int` to `np.signedinteger` is deprecated. In future, it will be treated as `np.int64 == np.dtype(int).type`.\n",
            "  if np.issubdtype(vec.dtype, np.int):\n",
            "WARNING:root:cannot compute similarity with no input []\n",
            "WARNING:root:cannot compute similarity with no input ['ngrepeat']\n"
          ],
          "name": "stderr"
        }
      ]
    },
    {
      "cell_type": "markdown",
      "metadata": {
        "id": "3zQa7btkxoAj",
        "colab_type": "text"
      },
      "source": [
        "Now we can feed this new representation into the logistic regression: "
      ]
    },
    {
      "cell_type": "code",
      "metadata": {
        "colab_type": "code",
        "id": "LSSSuFQYQIo5",
        "outputId": "c7deef93-6dbc-47a7-fb78-fdbda8712346",
        "colab": {
          "base_uri": "https://localhost:8080/",
          "height": 82
        }
      },
      "source": [
        "from sklearn.linear_model import LogisticRegression\n",
        "logreg = LogisticRegression(n_jobs=1, C=1e5)\n",
        "logreg = logreg.fit(X_train_word_average, train['tags'])\n",
        "y_pred = logreg.predict(X_test_word_average)"
      ],
      "execution_count": 0,
      "outputs": [
        {
          "output_type": "stream",
          "text": [
            "/usr/local/lib/python3.6/dist-packages/sklearn/linear_model/logistic.py:432: FutureWarning: Default solver will be changed to 'lbfgs' in 0.22. Specify a solver to silence this warning.\n",
            "  FutureWarning)\n",
            "/usr/local/lib/python3.6/dist-packages/sklearn/linear_model/logistic.py:469: FutureWarning: Default multi_class will be changed to 'auto' in 0.22. Specify the multi_class option to silence this warning.\n",
            "  \"this warning.\", FutureWarning)\n"
          ],
          "name": "stderr"
        }
      ]
    },
    {
      "cell_type": "markdown",
      "metadata": {
        "id": "7fy9vOz44h9p",
        "colab_type": "text"
      },
      "source": [
        "How accurate is this averaged word2vec model with logistic regression?"
      ]
    },
    {
      "cell_type": "code",
      "metadata": {
        "colab_type": "code",
        "id": "U_WzSihIQIo9",
        "outputId": "9b15bd39-0406-40dc-edf2-90a7fc3bfa5d",
        "colab": {
          "base_uri": "https://localhost:8080/",
          "height": 475
        }
      },
      "source": [
        "print('accuracy %s' % accuracy_score(y_pred, test.tags))\n",
        "print(classification_report(test.tags, y_pred))"
      ],
      "execution_count": 0,
      "outputs": [
        {
          "output_type": "stream",
          "text": [
            "accuracy 0.6375\n",
            "               precision    recall  f1-score   support\n",
            "\n",
            "         .net       0.62      0.59      0.61       613\n",
            "      android       0.74      0.76      0.75       620\n",
            "    angularjs       0.65      0.67      0.66       587\n",
            "      asp.net       0.53      0.52      0.52       586\n",
            "            c       0.70      0.77      0.73       599\n",
            "           c#       0.44      0.39      0.41       589\n",
            "          c++       0.65      0.60      0.63       594\n",
            "          css       0.73      0.80      0.76       610\n",
            "         html       0.60      0.61      0.60       617\n",
            "          ios       0.56      0.52      0.54       587\n",
            "       iphone       0.55      0.50      0.52       611\n",
            "         java       0.61      0.61      0.61       594\n",
            "   javascript       0.65      0.65      0.65       619\n",
            "       jquery       0.61      0.57      0.59       574\n",
            "        mysql       0.70      0.71      0.71       584\n",
            "  objective-c       0.42      0.43      0.43       578\n",
            "          php       0.68      0.70      0.69       591\n",
            "       python       0.76      0.78      0.77       608\n",
            "ruby-on-rails       0.82      0.83      0.82       638\n",
            "          sql       0.65      0.71      0.68       601\n",
            "\n",
            "     accuracy                           0.64     12000\n",
            "    macro avg       0.63      0.64      0.63     12000\n",
            " weighted avg       0.63      0.64      0.64     12000\n",
            "\n"
          ],
          "name": "stdout"
        }
      ]
    },
    {
      "cell_type": "markdown",
      "metadata": {
        "id": "cNXuL03bxoAy",
        "colab_type": "text"
      },
      "source": [
        "Now you can see that the accuracy went down! Oh no! Why is that? Because we used a very naive approach, to average our vectors. The way around it would be doc2vec, which learns relationships between documents (posts in this case), instead of words. The accuracy could also improve by using a different classifier instead of logistic regression, or by changing the aggregation strategy. "
      ]
    },
    {
      "cell_type": "markdown",
      "metadata": {
        "colab_type": "text",
        "id": "qtujiFgzQIpA"
      },
      "source": [
        "## Doc2vec and Logistic Regression (advanced)\n",
        "\n",
        "The idea of word2vec can be extended to documents whereby instead of learning feature representations for words, we learn it for sentences or documents. To get a general idea of a word2vec, think of it as a mathematical average of the word vector representations of all the words in the document. Doc2Vec extends the idea of word2vec, however words can only capture so much, there are times when we need relationships between documents and not just words.\n",
        "\n",
        "The way to train doc2vec model for our Stack Overflow questions and tags data is very similar with when we trained multi-class text classification with word2vec and logistic regression above.\n",
        "\n",
        "First, we label the sentences. Gensim’s Doc2Vec implementation requires each document/paragraph to have a label associated with it that indicates if it's part of the test or training set. We do this by using the TaggedDocument method. The format will be “TRAIN_i” or “TEST_i” where “i” is a dummy index of the post.\n",
        "\n",
        "First let's import the necessary libraries. \n"
      ]
    },
    {
      "cell_type": "code",
      "metadata": {
        "colab_type": "code",
        "id": "qkXdv0A6QIpB",
        "colab": {}
      },
      "source": [
        "from tqdm import tqdm\n",
        "from gensim.models import doc2vec\n",
        "from sklearn import utils\n",
        "import gensim\n",
        "from gensim.models.doc2vec import TaggedDocument\n",
        "import re"
      ],
      "execution_count": 0,
      "outputs": []
    },
    {
      "cell_type": "markdown",
      "metadata": {
        "id": "cBov76MXxoA8",
        "colab_type": "text"
      },
      "source": [
        "Let's start by defining a function that labels our documents in the corpus. We just give them dummy labels TRAIN_i or TEST_i for post i. Given a corpus and labels, we return a variable that includes a label indicating if it's test or training data. "
      ]
    },
    {
      "cell_type": "code",
      "metadata": {
        "colab_type": "code",
        "id": "TtVzwM8RQIpD",
        "colab": {}
      },
      "source": [
        "def label_sentences(corpus, label_type):\n",
        "    \"\"\"\n",
        "    Gensim's Doc2Vec implementation requires each document/paragraph to have a label associated with it.\n",
        "    We do this by using the TaggedDocument method. The format will be \"TRAIN_i\" or \"TEST_i\" where \"i\" is\n",
        "    a dummy index of the post.\n",
        "    \"\"\"\n",
        "    labeled = []\n",
        "    for i, v in enumerate(corpus):\n",
        "        label = label_type + '_' + str(i)\n",
        "        labeled.append(doc2vec.TaggedDocument(v.split(), [label]))  \n",
        "    return labeled"
      ],
      "execution_count": 0,
      "outputs": []
    },
    {
      "cell_type": "markdown",
      "metadata": {
        "id": "5lsDfgBnxoBC",
        "colab_type": "text"
      },
      "source": [
        "Just like above we split our dataset up in test and training data."
      ]
    },
    {
      "cell_type": "code",
      "metadata": {
        "colab_type": "code",
        "id": "GfXghWoJQIpF",
        "colab": {}
      },
      "source": [
        "X_train, X_test, y_train, y_test = train_test_split(df.post, df.tags, random_state=0, test_size=0.3)\n",
        "X_train = label_sentences(X_train, 'Train')\n",
        "X_test = label_sentences(X_test, 'Test')\n",
        "all_data = X_train + X_test"
      ],
      "execution_count": 0,
      "outputs": []
    },
    {
      "cell_type": "markdown",
      "metadata": {
        "id": "A_KYhbHmxoBI",
        "colab_type": "text"
      },
      "source": [
        "Let's have a look how our data looks at this moment: "
      ]
    },
    {
      "cell_type": "code",
      "metadata": {
        "colab_type": "code",
        "id": "321apZFWQIpI",
        "outputId": "a9f6c385-6a38-4815-8819-9bd668079018",
        "colab": {
          "base_uri": "https://localhost:8080/",
          "height": 201
        }
      },
      "source": [
        "all_data[:10]"
      ],
      "execution_count": 0,
      "outputs": [
        {
          "output_type": "execute_result",
          "data": {
            "text/plain": [
              "[TaggedDocument(words=['fulltext', 'search', 'php', 'pdo', 'returning', 'result', 'searched', 'lot', 'matter', 'find', 'wrong', 'setup', 'trying', 'fulltext', 'search', 'using', 'pdo', 'php', 'get', 'results', 'error', 'messages', 'table', 'contains', 'customer', 'details', 'id', 'int', '11', 'auto_increment', 'name', 'varchar', '150', 'lastname', 'varchar', '150', 'company', 'varchar', '250', 'adress', 'varchar', '150', 'postcode', 'int', '5', 'city', 'varchar', '150', 'email', 'varchar', '250', 'phone', 'varchar', '20', 'orgnr', 'varchar', '15', 'timestamp', 'timestamp', 'current_timestamp', 'run', 'sqlquery', 'alter', 'table', 'system_customer', 'add', 'fulltext', 'name', 'lastname', 'except', 'columns', 'id', 'postcode', 'timestamp', 'signs', 'trouble', 'far', 'idea', 'problem', 'lies', 'db', 'configuration', 'php', 'code', 'goes', 'php', 'sth', 'dbhprepare', 'select', 'name', 'lastname', 'company', 'adress', 'city', 'phone', 'email', 'orgnr', 'db_pre', 'customer', 'match', 'name', 'lastname', 'company', 'adress', 'city', 'phone', 'email', 'orgnr', 'search', 'boolean', 'mode', 'bind', 'placeholders', 'sthbindparam', 'search', 'data', 'sthexecute', 'rows', 'sthfetchall', 'testing', 'print_r', 'dbherrorinfo', 'empty', 'rows', 'echo', 'else', 'echo', 'foreach', 'rows', 'row', 'echo', 'tr', 'datahref', 'new_orderphp', 'cid', 'row', 'id', 'echo', 'td', 'row', 'name', 'td', 'echo', 'td', 'row', 'lastname', 'td', 'echo', 'td', 'row', 'company', 'td', 'echo', 'td', 'row', 'phone', 'td', 'echo', 'td', 'row', 'email', 'td', 'echo', 'td', 'date', 'ymd', 'strtotime', 'row', 'timestamp', 'td', 'echo', 'tr', 'echo', 'tried', 'change', 'parameter', 'searchquery', 'string', 'like', 'testcompany', 'somename', 'boolean', 'mode', 'also', 'read', 'word', 'found', '50', 'rows', 'counts', 'common', 'word', 'pretty', 'sure', 'case', 'uses', 'specific', 'words', 'table', 'uses', 'myisam', 'engine', 'get', 'results', 'error', 'messages', 'please', 'help', 'point', 'wrong', 'thank'], tags=['Train_0']),\n",
              " TaggedDocument(words=['select', 'everything', '1', 'table', 'x', 'rows', 'another', 'im', 'making', 'join', 'query', 'like', 'select', 'clothes', 'c', 'join', 'style', 'cstyleid', 'ssylelid', 'clothesid', '19', 'dont', 'want', 'select', 'everything', 'style', 'want', 'select', 'everything', 'clothes', '20', 'rows', 'select', '1', 'row', '10', 'style', 'easyest', 'way', 'without', 'select', 'every', 'row', 'clothes', '20', 'things', 'select', 'like', 'select', 'cid', 'cdescription', 'cname', 'csize', 'cbrand', 'sname', 'clothes', 'c', 'join', 'style', 'cstyleid', 'stsylelid', 'clothesid', '19', 'would', 'fastest', 'way', 'possibillity'], tags=['Train_1']),\n",
              " TaggedDocument(words=['r', 'cannot', 'resolved', 'variable', 'importing', 'project', 'pasting', 'problems', 'details', 'r', 'cannot', 'resolved', 'variable', 'common', 'problem', 'checked', 'res', 'folder', 'done', 'refreshing', 'project', 'cleaning', 'project', 'validate', 'still', 'error', 'resolved', 'help', 'guys', '20121214', '021238', 'comexampleandroidlivecubescube2cubewallpaper2settings', 'resdrawableic_launcher_wallpaperpng0', 'error', 'resource', 'entry', 'ic_launcher_wallpaper', 'already', 'defined', '20121214', '021238', 'comexampleandroidlivecubescube2cubewallpaper2settings', 'resdrawableic_launcher_wallpaperhtml0', 'originally', 'defined', '20121214', '021238', 'comexampleandroidlivecubescube2cubewallpaper2settings', 'resxmlcube1xml0', 'error', 'resource', 'entry', 'cube1', 'already', 'defined', '20121214', '021238', 'comexampleandroidlivecubescube2cubewallpaper2settings', 'resxmlcube1html0', 'originally', 'defined', '20121214', '021238', 'comexampleandroidlivecubescube2cubewallpaper2settings', 'resxmlcube2xml0', 'error', 'resource', 'entry', 'cube2', 'already', 'defined', '20121214', '021238', 'comexampleandroidlivecubescube2cubewallpaper2settings', 'resxmlcube2html0', 'originally', 'defined', '20121214', '021238', 'comexampleandroidlivecubescube2cubewallpaper2settings', 'resxmlcube2_settingsxml0', 'error', 'resource', 'entry', 'cube2_settings', 'already', 'defined', '20121214', '021238', 'comexampleandroidlivecubescube2cubewallpaper2settings', 'resxmlcube2_settingshtml0', 'originally', 'defined', '20121214', '021238', 'comexampleandroidlivecubescube2cubewallpaper2settings', 'fsample', 'projectscuberesvaluesindexhtml112', 'error', 'error', 'parsing', 'xml', 'mismatched', 'tag', '20121214', '021238', 'comexampleandroidlivecubescube2cubewallpaper2settings', 'fsample', 'projectscuberesvaluesshapeshtml112', 'error', 'error', 'parsing', 'xml', 'mismatched', 'tag', '20121214', '021238', 'comexampleandroidlivecubescube2cubewallpaper2settings', 'fsample', 'projectscuberesvaluesstringshtml112', 'error', 'error', 'parsing', 'xml', 'mismatched', 'tag', '20121214', '021238', 'comexampleandroidlivecubescube2cubewallpaper2settings', 'fsample', 'projectscuberesxmlcube1html112', 'error', 'error', 'parsing', 'xml', 'mismatched', 'tag', '20121214', '021238', 'comexampleandroidlivecubescube2cubewallpaper2settings', 'fsample', 'projectscuberesxmlcube2html112', 'error', 'error', 'parsing', 'xml', 'mismatched', 'tag', '20121214', '021238', 'comexampleandroidlivecubescube2cubewallpaper2settings', 'fsample', 'projectscuberesxmlcube2_settingshtml112', 'error', 'error', 'parsing', 'xml', 'mismatched', 'tag', '20121214', '021238', 'comexampleandroidlivecubescube2cubewallpaper2settings', 'fsample', 'projectscuberesxmlindexhtml112', 'error', 'error', 'parsing', 'xml', 'mismatched', 'tag', 'copyright', 'c', '2009', 'google', 'inc', 'licensed', 'apache', 'license', 'version', '20', 'license', 'may', 'use', 'file', 'except', 'compliance', 'license', 'may', 'obtain', 'copy', 'license', 'http', 'wwwapacheorg', 'licenses', 'license20', 'unless', 'required', 'applicable', 'law', 'agreed', 'writing', 'software', 'distributed', 'license', 'distributed', 'basis', 'without', 'warranties', 'conditions', 'kind', 'either', 'express', 'implied', 'see', 'license', 'specific', 'language', 'governing', 'permissions', 'limitations', 'license', 'package', 'comexampleandroidlivecubescube2', 'import', 'comexampleandroidlivecubescube2', 'import', 'androidcontentsharedpreferences', 'import', 'androidosbundle', 'import', 'androidpreferencepreferenceactivity', 'public', 'class', 'cubewallpaper2settings', 'extends', 'preferenceactivity', 'implements', 'sharedpreferencesonsharedpreferencechangelistener', 'override', 'protected', 'void', 'oncreate', 'bundle', 'icicle', 'superoncreate', 'icicle', 'getpreferencemanager', 'setsharedpreferencesname', 'cubewallpaper2shared_prefs_name', 'addpreferencesfromresource', 'rxmlcube2_settings', 'getpreferencemanager', 'getsharedpreferences', 'registeronsharedpreferencechangelistener', 'override', 'protected', 'void', 'onresume', 'superonresume', 'override', 'protected', 'void', 'ondestroy', 'getpreferencemanager', 'getsharedpreferences', 'unregisteronsharedpreferencechangelistener', 'superondestroy', 'public', 'void', 'onsharedpreferencechanged', 'sharedpreferences', 'sharedpreferences', 'string', 'key'], tags=['Train_2']),\n",
              " TaggedDocument(words=['efficient', 'way', 'get', 'values', 'object', 'based', 'id', 'list', 'list', 'users', 'users', 'arrayany', 'id1', 'name', 'id2', 'name', 'b', 'id3', 'name', 'c', 'thisselectedusers', '1', '2', 'get', 'objects', 'users', 'array', 'id', 'found', 'selectusers', 'array'], tags=['Train_3']),\n",
              " TaggedDocument(words=['aspnet', 'limit', 'parameter', 'length', 'querystring', 'problem', 'passing', 'parameters', 'querystring', 'found', 'values', 'null', 'code', 'snippet', 'page1', 'passing', 'parameters', 'responseredirect', 'stringformat', 'requestreservationpageaspx', 'plcname', '0', 'plcindex', '1', 'email', '2', 'form', '3', '4', 'sr', '5', 'comment', '6', 'lblplcnamevaltext', 'index', 'lblemailvaltext', 'datetimeparse', 'lblreqfromvaltext', 'toshortdatestring', 'datetimeparse', 'lblreqtovaltext', 'toshortdatestring', 'lblservreqnumtext', 'lblyourcommentvaltext', 'page2', 'requesting', 'values', 'cmbplcrequestselectedindex', 'converttoint32', 'requestquerystring', 'plcindex', 'txtemailtext', 'converttostring', 'requestquerystring', 'email', 'txtsrtext', 'converttostring', 'requestquerystring', 'sr', 'txtcommenttext', 'converttostring', 'requestquerystring', 'comment', 'txtreqfromdatetext', 'requestquerystring', 'txtreqtodatetext', 'requestquerystring', 'found', 'requestquerystring', 'requestquerystring', 'return', 'null', 'idea'], tags=['Train_4']),\n",
              " TaggedDocument(words=['ruby', 'rails', 'fetch', 'display', 'descendent', 'records', 'parent', 'model', 'many', 'children', 'class', 'band', 'activerecordbase', 'has_many', 'concerts', 'end', 'class', 'concerts', 'activerecordbase', 'belongs_to', 'band', 'end', 'would', 'like', 'display', 'index', 'view', 'figure', 'syntax', 'displaying', 'children', 'records', 'bandseach', 'band', 'band', 'name', 'bandname', 'concerts', 'ul', 'bandsconcertseach', 'concert', 'concertlocation', 'end', 'ul', 'end', 'getting', 'error', 'like', 'undefined', 'method', 'concerts', '#array0x00000102c537f0', 'proper', 'way', 'fetching', 'displaying', 'descendent', 'models'], tags=['Train_5']),\n",
              " TaggedDocument(words=['canceling', 'fade', 'effect', 'tooltip', 'hover', 'need', 'tooltip', 'hyperlinks', 'inside', 'web', 'site', 'wrote', 'code', 'seems', 'working', 'fine', 'expect', 'one', 'problem', 'hover', 'tooltip', 'block', 'fades', 'fades', 'need', 'prevent', 'fadeout', 'hovet', 'somehow', 'tried', 'use', 'stop', 'method', 'work', 'probably', 'something', 'wrong', 'could', 'please', 'help', 'thanks', 'html', 'div', 'id', 'hover', 'div', 'class', 'tooltip', 'href', '#', 'href', '#', 'href', '#', 'div', 'div', 'css', 'body', 'margin', '0', 'padding', '0', 'width', '100', 'height', '100', '#hover', 'position', 'relative', 'width50px', 'height50px', 'background', 'green', 'tooltip', 'position', 'relative', 'width', '45px', 'top', '80px', 'height', '20px', 'border', '1px', 'solid', 'black', 'padding', '5px', 'display', 'inlineblock', 'margintop', '5px', 'height', '10px', 'width', '10px', 'border', '1px', 'solid', 'black', 'background', 'red', 'jquery', 'document', 'ready', 'function', 'tooltip', 'hide', '#hover', 'hover', 'function', 'find', 'tooltip', 'fadein', 'function', 'find', 'tooltip', 'delay', '1000', 'fadeout', 'demo', 'http', 'jsfiddlenet', '8gc3d', '2904'], tags=['Train_6']),\n",
              " TaggedDocument(words=['ajax', 'calender', 'working', 'ie', 'using', 'ajax', 'calender', 'readonly', 'textbox', 'control', 'select', 'date', 'click', 'date', 'calender', 'picks', 'date', 'attach', 'txtfromdate', 'working', 'correctly', 'ff', 'chrome', 'ie', 'code', 'asptextbox', 'id', 'txtfromdate', 'text', 'date', 'runat', 'server', 'onfocus', 'javascriptthisvalue', 'onblur', 'javascript', 'thisvalue', 'thisvalue', 'date', 'asptextbox', 'ajaxcalendarextender', 'id', 'txtcalendecontrolextenderfromdate', 'runat', 'server', 'format', 'ddmmmyyyy', 'targetcontrolid', 'txtfromdate', 'ajaxcalendarextender'], tags=['Train_7']),\n",
              " TaggedDocument(words=['c++', 'random', 'number', 'generator', 'hung', 'whenever', 'attempt', 'run', 'code', 'program', 'gets', 'hung', 'print', 'value', 'r2eff', 'sure', 'help', 'would', 'appreciated', 'sample', 'value', 'r2efftemp', 'would', '10', 'stddev', 'would', '05', '5', 'unsigned', 'seed', 'stdchronosystem_clocknow', 'time_since_epoch', 'count', 'stdmt19937', 'generator', 'seed', 'normal_distributiondouble', 'rand', 'r2efftemp', 'r2efftempstddev', 'r2efftemp', 'rand', 'generator', 'coutr2efftempendl', 'thank'], tags=['Train_8']),\n",
              " TaggedDocument(words=['bit', 'vector', 'looked', 'online', 'good', 'seem', 'find', 'good', 'example', 'bit', 'vector', 'actually', 'assignment', 'college', 'add', 'remove', 'union', '2', 'vectors', 'intersection', 'struggling', 'comprehend', 'actual', 'bit', 'vector', 'using', 'c', 'write', 'could', 'someone', 'please', 'help', 'would', 'massive', 'help'], tags=['Train_9'])]"
            ]
          },
          "metadata": {
            "tags": []
          },
          "execution_count": 27
        }
      ]
    },
    {
      "cell_type": "markdown",
      "metadata": {
        "id": "GvY-IsHNxoBQ",
        "colab_type": "text"
      },
      "source": [
        "Gensim allows us to build a model very easily. We can vary the parameters to fit your data: \n",
        "\n",
        "*    dm=0 , distributed bag of words (DBOW) is used.\n",
        "*    vector_size=300 , 300 vector dimensional feature vectors.\n",
        "*    negative=5 , specifies how many “noise words” should be drawn.\n",
        "*    min_count=1, ignores all words with total frequency lower than this.\n",
        "*    alpha=0.065 , the initial learning rate.\n",
        "\n",
        "We initialize the model and train for 30 epochs. (slower computers may want to train for less epochs). Be sure to set your runtime to TPU/GPU hardware acceleration! Maybe test with a lower amount of epochs first to see how high you can go during class time!\n",
        "\n"
      ]
    },
    {
      "cell_type": "code",
      "metadata": {
        "colab_type": "code",
        "id": "G9UoqpKnQIpM",
        "outputId": "817dea9b-d53c-4019-f255-574176c151c0",
        "colab": {
          "base_uri": "https://localhost:8080/",
          "height": 33
        }
      },
      "source": [
        "from gensim.models.doc2vec import Doc2Vec, TaggedDocument\n",
        "model_dbow = Doc2Vec(dm=0, vector_size=300, negative=5, min_count=1, alpha=0.065, min_alpha=0.065)\n",
        "model_dbow.build_vocab([x for x in tqdm(all_data)])"
      ],
      "execution_count": 0,
      "outputs": [
        {
          "output_type": "stream",
          "text": [
            "100%|██████████| 40000/40000 [00:00<00:00, 1092174.23it/s]\n"
          ],
          "name": "stderr"
        }
      ]
    },
    {
      "cell_type": "code",
      "metadata": {
        "colab_type": "code",
        "id": "lSDy4huyQIpP",
        "outputId": "09cdd839-15fc-451b-bcc5-27e4157b242d",
        "colab": {
          "base_uri": "https://localhost:8080/",
          "height": 508
        }
      },
      "source": [
        "for epoch in range(30):\n",
        "    model_dbow.train(utils.shuffle([x for x in tqdm(all_data)]),\n",
        "    total_examples=len(all_data),\n",
        "    epochs=1)\n",
        "    model_dbow.alpha -= 0.002\n",
        "    model_dbow.min_alpha = model_dbow.alpha"
      ],
      "execution_count": 0,
      "outputs": [
        {
          "output_type": "stream",
          "text": [
            "100%|██████████| 40000/40000 [00:00<00:00, 1931924.18it/s]\n",
            "100%|██████████| 40000/40000 [00:00<00:00, 2288280.64it/s]\n",
            "100%|██████████| 40000/40000 [00:00<00:00, 2253124.55it/s]\n",
            "100%|██████████| 40000/40000 [00:00<00:00, 1985492.85it/s]\n",
            "100%|██████████| 40000/40000 [00:00<00:00, 1318776.90it/s]\n",
            "100%|██████████| 40000/40000 [00:00<00:00, 3344273.33it/s]\n",
            "100%|██████████| 40000/40000 [00:00<00:00, 3301496.74it/s]\n",
            "100%|██████████| 40000/40000 [00:00<00:00, 3327954.30it/s]\n",
            "100%|██████████| 40000/40000 [00:00<00:00, 2641124.63it/s]\n",
            "100%|██████████| 40000/40000 [00:00<00:00, 3238407.17it/s]\n",
            "100%|██████████| 40000/40000 [00:00<00:00, 3092631.38it/s]\n",
            "100%|██████████| 40000/40000 [00:00<00:00, 3324129.90it/s]\n",
            "100%|██████████| 40000/40000 [00:00<00:00, 2316367.20it/s]\n",
            "100%|██████████| 40000/40000 [00:00<00:00, 2384922.74it/s]\n",
            "100%|██████████| 40000/40000 [00:00<00:00, 2390529.77it/s]\n",
            "100%|██████████| 40000/40000 [00:00<00:00, 3070613.13it/s]\n",
            "100%|██████████| 40000/40000 [00:00<00:00, 3076017.75it/s]\n",
            "100%|██████████| 40000/40000 [00:00<00:00, 2121630.31it/s]\n",
            "100%|██████████| 40000/40000 [00:00<00:00, 2400963.98it/s]\n",
            "100%|██████████| 40000/40000 [00:00<00:00, 2636476.15it/s]\n",
            "100%|██████████| 40000/40000 [00:00<00:00, 2314609.57it/s]\n",
            "100%|██████████| 40000/40000 [00:00<00:00, 2512198.61it/s]\n",
            "100%|██████████| 40000/40000 [00:00<00:00, 2392063.53it/s]\n",
            "100%|██████████| 40000/40000 [00:00<00:00, 2647710.25it/s]\n",
            "100%|██████████| 40000/40000 [00:00<00:00, 2519290.64it/s]\n",
            "100%|██████████| 40000/40000 [00:00<00:00, 2169757.51it/s]\n",
            "100%|██████████| 40000/40000 [00:00<00:00, 1927285.84it/s]\n",
            "100%|██████████| 40000/40000 [00:00<00:00, 2114490.82it/s]\n",
            "100%|██████████| 40000/40000 [00:00<00:00, 2671573.75it/s]\n",
            "100%|██████████| 40000/40000 [00:00<00:00, 2319281.15it/s]\n"
          ],
          "name": "stderr"
        }
      ]
    },
    {
      "cell_type": "markdown",
      "metadata": {
        "id": "mNp4a3ouxoB5",
        "colab_type": "text"
      },
      "source": [
        "Now let's define a function to the vectors out of this trained  model, so that we can feed them into the logistic regression:"
      ]
    },
    {
      "cell_type": "code",
      "metadata": {
        "colab_type": "code",
        "id": "A6cGBFuRQIpT",
        "colab": {}
      },
      "source": [
        "def get_vectors(model, corpus_size, vectors_size, vectors_type):\n",
        "    \"\"\"\n",
        "    Get vectors from trained doc2vec model\n",
        "    :param doc2vec_model: Trained Doc2Vec model\n",
        "    :param corpus_size: Size of the data\n",
        "    :param vectors_size: Size of the embedding vectors\n",
        "    :param vectors_type: Training or Testing vectors\n",
        "    :return: list of vectors\n",
        "    \"\"\"\n",
        "    \n",
        "    vectors = np.zeros((corpus_size, vectors_size))\n",
        "    for i in range(0, corpus_size):\n",
        "        prefix = vectors_type + '_' + str(i)\n",
        "        vectors[i] = model.docvecs[prefix]\n",
        "    return vectors"
      ],
      "execution_count": 0,
      "outputs": []
    },
    {
      "cell_type": "markdown",
      "metadata": {
        "id": "cgOEdSpS7nTW",
        "colab_type": "text"
      },
      "source": [
        "We can use this function to create a vectorised training and test set with 1 entry per document for the input in classification models such as logistic regression. "
      ]
    },
    {
      "cell_type": "code",
      "metadata": {
        "colab_type": "code",
        "id": "57wLrRE3QIpX",
        "colab": {}
      },
      "source": [
        "train_vectors_dbow = get_vectors(model_dbow, len(X_train), 300, 'Train')\n",
        "test_vectors_dbow = get_vectors(model_dbow, len(X_test), 300, 'Test')"
      ],
      "execution_count": 0,
      "outputs": []
    },
    {
      "cell_type": "markdown",
      "metadata": {
        "id": "WJE2ZeuOxoCD",
        "colab_type": "text"
      },
      "source": [
        "We can now feed these vectors to the classifier again: "
      ]
    },
    {
      "cell_type": "code",
      "metadata": {
        "colab_type": "code",
        "id": "NoLo0XkeQIpa",
        "outputId": "bc2e255f-c3ab-4da5-d86a-32b52457cd70",
        "colab": {
          "base_uri": "https://localhost:8080/",
          "height": 606
        }
      },
      "source": [
        "logreg.fit(train_vectors_dbow, y_train)\n",
        "logreg = logreg.fit(train_vectors_dbow, y_train)\n",
        "y_pred = logreg.predict(test_vectors_dbow)\n",
        "print('accuracy %s' % accuracy_score(y_pred, y_test))\n",
        "print(classification_report(y_test, y_pred))"
      ],
      "execution_count": 0,
      "outputs": [
        {
          "output_type": "stream",
          "text": [
            "/usr/local/lib/python3.6/dist-packages/sklearn/linear_model/logistic.py:432: FutureWarning: Default solver will be changed to 'lbfgs' in 0.22. Specify a solver to silence this warning.\n",
            "  FutureWarning)\n",
            "/usr/local/lib/python3.6/dist-packages/sklearn/linear_model/logistic.py:469: FutureWarning: Default multi_class will be changed to 'auto' in 0.22. Specify the multi_class option to silence this warning.\n",
            "  \"this warning.\", FutureWarning)\n",
            "/usr/local/lib/python3.6/dist-packages/sklearn/linear_model/logistic.py:432: FutureWarning: Default solver will be changed to 'lbfgs' in 0.22. Specify a solver to silence this warning.\n",
            "  FutureWarning)\n",
            "/usr/local/lib/python3.6/dist-packages/sklearn/linear_model/logistic.py:469: FutureWarning: Default multi_class will be changed to 'auto' in 0.22. Specify the multi_class option to silence this warning.\n",
            "  \"this warning.\", FutureWarning)\n"
          ],
          "name": "stderr"
        },
        {
          "output_type": "stream",
          "text": [
            "accuracy 0.8066666666666666\n",
            "               precision    recall  f1-score   support\n",
            "\n",
            "         .net       0.73      0.68      0.70       589\n",
            "      android       0.90      0.91      0.90       661\n",
            "    angularjs       0.93      0.95      0.94       606\n",
            "      asp.net       0.79      0.78      0.79       613\n",
            "            c       0.81      0.89      0.85       601\n",
            "           c#       0.72      0.72      0.72       585\n",
            "          c++       0.86      0.81      0.83       621\n",
            "          css       0.80      0.86      0.83       587\n",
            "         html       0.70      0.66      0.68       560\n",
            "          ios       0.67      0.66      0.66       611\n",
            "       iphone       0.66      0.67      0.66       593\n",
            "         java       0.80      0.85      0.83       581\n",
            "   javascript       0.82      0.77      0.79       608\n",
            "       jquery       0.85      0.85      0.85       593\n",
            "        mysql       0.85      0.81      0.83       592\n",
            "  objective-c       0.71      0.65      0.68       597\n",
            "          php       0.86      0.87      0.86       604\n",
            "       python       0.90      0.93      0.92       610\n",
            "ruby-on-rails       0.95      0.96      0.95       595\n",
            "          sql       0.79      0.83      0.81       593\n",
            "\n",
            "     accuracy                           0.81     12000\n",
            "    macro avg       0.80      0.81      0.80     12000\n",
            " weighted avg       0.81      0.81      0.81     12000\n",
            "\n"
          ],
          "name": "stdout"
        }
      ]
    },
    {
      "cell_type": "markdown",
      "metadata": {
        "id": "GqmumA0-xoCV",
        "colab_type": "text"
      },
      "source": [
        "80%, that is the best result so far! Remember, we can actually use any classifier with this method! So up to you to make your project as efficient as possible :)\n",
        "\n",
        "Try using a different classifiers, e.g. Decision tree or SVM. Does that influence the results? \n",
        "\n",
        "\n",
        "    \n",
        "New methods are coming out every day in the field of data science. Just at the end of August 2019, the first implementation of BERT for document classfication was published: DocBERT: https://arxiv.org/abs/1904.08398"
      ]
    },
    {
      "cell_type": "markdown",
      "metadata": {
        "id": "jvthUI_yxoCg",
        "colab_type": "text"
      },
      "source": [
        "## References\n",
        "\n",
        "* https://radimrehurek.com/gensim/models/word2vec.html\n",
        "* https://towardsdatascience.com/multi-class-text-classification-model-comparison-and-selection-5eb066197568\n",
        "* https://github.com/kavgan/nlp-text-mining-working-examples/tree/master/word2vec\n",
        "* https://medium.com/@mishra.thedeepak/doc2vec-simple-implementation-example-df2afbbfbad5]"
      ]
    }
  ]
}