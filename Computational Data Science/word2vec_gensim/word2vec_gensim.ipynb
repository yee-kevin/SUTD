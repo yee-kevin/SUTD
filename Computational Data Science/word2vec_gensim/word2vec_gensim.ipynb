{
  "nbformat": 4,
  "nbformat_minor": 0,
  "metadata": {
    "colab": {
      "name": "lab10a_empty.ipynb",
      "provenance": [],
      "collapsed_sections": []
    },
    "kernelspec": {
      "name": "python3",
      "display_name": "Python 3"
    },
    "accelerator": "TPU"
  },
  "cells": [
    {
      "cell_type": "markdown",
      "metadata": {
        "colab_type": "text",
        "id": "KDMeojC4XA9R"
      },
      "source": [
        "## Training a word2vec model from scratch\n",
        "\n",
        "-- Prof. Dorien Herremans\n",
        "\n",
        "We will start by training a word2vec model from scratch using the gensim library. You will need to ensure that you have gensim installed, and a file decompressor to load our dataset. \n",
        "\n",
        "Note: these models may take a while to train. Be sure to switch the runtime of  Google Colab to us a TPU or GPU hardware accellerator (in the menu at the top). \n",
        "\n",
        "Let's start by installing some libraries that we will use:"
      ]
    },
    {
      "cell_type": "code",
      "metadata": {
        "id": "mDkvVQRXu8rj",
        "colab_type": "code",
        "outputId": "8bc52a49-aa42-4811-98d5-8c86c7d56520",
        "colab": {
          "base_uri": "https://localhost:8080/",
          "height": 442
        }
      },
      "source": [
        "!pip install gensim\n",
        "!pip install wget"
      ],
      "execution_count": 0,
      "outputs": [
        {
          "output_type": "stream",
          "text": [
            "Requirement already satisfied: gensim in /usr/local/lib/python3.6/dist-packages (3.6.0)\n",
            "Requirement already satisfied: smart-open>=1.2.1 in /usr/local/lib/python3.6/dist-packages (from gensim) (1.9.0)\n",
            "Requirement already satisfied: six>=1.5.0 in /usr/local/lib/python3.6/dist-packages (from gensim) (1.12.0)\n",
            "Requirement already satisfied: numpy>=1.11.3 in /usr/local/lib/python3.6/dist-packages (from gensim) (1.17.4)\n",
            "Requirement already satisfied: scipy>=0.18.1 in /usr/local/lib/python3.6/dist-packages (from gensim) (1.3.3)\n",
            "Requirement already satisfied: requests in /usr/local/lib/python3.6/dist-packages (from smart-open>=1.2.1->gensim) (2.21.0)\n",
            "Requirement already satisfied: boto>=2.32 in /usr/local/lib/python3.6/dist-packages (from smart-open>=1.2.1->gensim) (2.49.0)\n",
            "Requirement already satisfied: boto3 in /usr/local/lib/python3.6/dist-packages (from smart-open>=1.2.1->gensim) (1.10.27)\n",
            "Requirement already satisfied: chardet<3.1.0,>=3.0.2 in /usr/local/lib/python3.6/dist-packages (from requests->smart-open>=1.2.1->gensim) (3.0.4)\n",
            "Requirement already satisfied: idna<2.9,>=2.5 in /usr/local/lib/python3.6/dist-packages (from requests->smart-open>=1.2.1->gensim) (2.8)\n",
            "Requirement already satisfied: certifi>=2017.4.17 in /usr/local/lib/python3.6/dist-packages (from requests->smart-open>=1.2.1->gensim) (2019.9.11)\n",
            "Requirement already satisfied: urllib3<1.25,>=1.21.1 in /usr/local/lib/python3.6/dist-packages (from requests->smart-open>=1.2.1->gensim) (1.24.3)\n",
            "Requirement already satisfied: botocore<1.14.0,>=1.13.27 in /usr/local/lib/python3.6/dist-packages (from boto3->smart-open>=1.2.1->gensim) (1.13.27)\n",
            "Requirement already satisfied: jmespath<1.0.0,>=0.7.1 in /usr/local/lib/python3.6/dist-packages (from boto3->smart-open>=1.2.1->gensim) (0.9.4)\n",
            "Requirement already satisfied: s3transfer<0.3.0,>=0.2.0 in /usr/local/lib/python3.6/dist-packages (from boto3->smart-open>=1.2.1->gensim) (0.2.1)\n",
            "Requirement already satisfied: python-dateutil<2.8.1,>=2.1; python_version >= \"2.7\" in /usr/local/lib/python3.6/dist-packages (from botocore<1.14.0,>=1.13.27->boto3->smart-open>=1.2.1->gensim) (2.6.1)\n",
            "Requirement already satisfied: docutils<0.16,>=0.10 in /usr/local/lib/python3.6/dist-packages (from botocore<1.14.0,>=1.13.27->boto3->smart-open>=1.2.1->gensim) (0.15.2)\n",
            "Collecting wget\n",
            "  Downloading https://files.pythonhosted.org/packages/47/6a/62e288da7bcda82b935ff0c6cfe542970f04e29c756b0e147251b2fb251f/wget-3.2.zip\n",
            "Building wheels for collected packages: wget\n",
            "  Building wheel for wget (setup.py) ... \u001b[?25l\u001b[?25hdone\n",
            "  Created wheel for wget: filename=wget-3.2-cp36-none-any.whl size=9681 sha256=2c6b6e48a984afb6b9927bb2428a6abfd78871a5cdf1391dd969a7c2db100b78\n",
            "  Stored in directory: /root/.cache/pip/wheels/40/15/30/7d8f7cea2902b4db79e3fea550d7d7b85ecb27ef992b618f3f\n",
            "Successfully built wget\n",
            "Installing collected packages: wget\n",
            "Successfully installed wget-3.2\n"
          ],
          "name": "stdout"
        }
      ]
    },
    {
      "cell_type": "markdown",
      "metadata": {
        "id": "0qiQjAboxcBN",
        "colab_type": "text"
      },
      "source": [
        "Now we can import these libraries:"
      ]
    },
    {
      "cell_type": "code",
      "metadata": {
        "colab_type": "code",
        "id": "f5wZmGH0XHYP",
        "colab": {}
      },
      "source": [
        "# imports needed \n",
        "import gensim\n",
        "import wget"
      ],
      "execution_count": 0,
      "outputs": []
    },
    {
      "cell_type": "markdown",
      "metadata": {
        "id": "02-XoaTBYuY1",
        "colab_type": "text"
      },
      "source": [
        "We will train our model using a very small dataset for demonstrative purposes. Note that for a real data science project you should train on a much larger dataset. \n",
        "\n",
        "We will use the complete works of Shakespeare. You can find the file at https://dorienherremans.com/drop/CDS/CNNs/shakespeare.txt"
      ]
    },
    {
      "cell_type": "code",
      "metadata": {
        "id": "1Tg9GZzYt4nf",
        "colab_type": "code",
        "colab": {}
      },
      "source": [
        "# # download the dataset\n",
        "# wget.download(\"https://dorienherremans.com/drop/CDS/CNNs/shakespeare.txt\")"
      ],
      "execution_count": 0,
      "outputs": []
    },
    {
      "cell_type": "markdown",
      "metadata": {
        "id": "nKHwTYP3YpJZ",
        "colab_type": "text"
      },
      "source": [
        "Let's read the input file and convert each line into a list of words (tokenizing). Do do this, we create a function read_input which is called in the penultimate line below: "
      ]
    },
    {
      "cell_type": "code",
      "metadata": {
        "id": "W1FvuHJL7V3C",
        "colab_type": "code",
        "outputId": "343e8c9d-2c53-44c1-f740-c9867571515e",
        "colab": {
          "base_uri": "https://localhost:8080/",
          "height": 33
        }
      },
      "source": [
        "# Mount google drive colab data folder\n",
        "from google.colab import drive\n",
        "drive.mount('/content/drive/')\n",
        "colab_data_path = \"drive/My Drive/Colab Notebooks/CDS_Labs/Week9/\"\n",
        "data_file = colab_data_path + \"shakespeare.txt\""
      ],
      "execution_count": 0,
      "outputs": [
        {
          "output_type": "stream",
          "text": [
            "Drive already mounted at /content/drive/; to attempt to forcibly remount, call drive.mount(\"/content/drive/\", force_remount=True).\n"
          ],
          "name": "stdout"
        }
      ]
    },
    {
      "cell_type": "code",
      "metadata": {
        "id": "F8J2jQ1JYpJd",
        "colab_type": "code",
        "outputId": "7b854d24-3ae6-492c-9c76-46cfb9b3149b",
        "colab": {
          "base_uri": "https://localhost:8080/",
          "height": 66
        }
      },
      "source": [
        "def read_input(input_file):\n",
        "    print(\"reading file...\")\n",
        "    with open (input_file, 'r') as f:\n",
        "        lines = f.readlines()\n",
        "        for line in lines:\n",
        "        # do some pre-processing and return a (tokenized) list\n",
        "        # of words for each review text\n",
        "        # you can print the output here to understand\n",
        "        # the preprocessing (tokenizing)\n",
        "            yield gensim.utils.simple_preprocess (line)\n",
        "# each review item new becomes a series of words\n",
        "# this is a list of lists\n",
        "\n",
        "documents = list (read_input (data_file))\n",
        "print(documents[0:10])\n",
        "print(\"Done reading data file\")"
      ],
      "execution_count": 0,
      "outputs": [
        {
          "output_type": "stream",
          "text": [
            "reading file...\n",
            "[[], [], ['the', 'sonnets'], [], ['by', 'william', 'shakespeare'], [], [], [], [], ['from', 'fairest', 'creatures', 'we', 'desire', 'increase']]\n",
            "Done reading data file\n"
          ],
          "name": "stdout"
        }
      ]
    },
    {
      "cell_type": "markdown",
      "metadata": {
        "id": "ZnDX2S9eX1Ub",
        "colab_type": "text"
      },
      "source": [
        "Now let's train the word2vec model using our document variable (which is a list of word lists). Note that you can specify a number of hyperparameters below:\n",
        "* min_count removes all words that occur less then min_count\n",
        "* window: window size in the skip-gram\n",
        "* workers: how many threads to use\n",
        "* size: number of dimension of your new word embedding vector (typically 100-200). Smaller datasets require a smaller number\n",
        "\n"
      ]
    },
    {
      "cell_type": "code",
      "metadata": {
        "colab_type": "code",
        "id": "VJWmrzCRZm9Z",
        "outputId": "bfdecf5f-37c5-42c4-c8a9-019a1b0506aa",
        "colab": {
          "base_uri": "https://localhost:8080/",
          "height": 33
        }
      },
      "source": [
        "model = gensim.models.Word2Vec (documents, size=150, window=5, min_count=2, workers=4)\n",
        "model.train(documents,total_examples=len(documents),epochs=10)"
      ],
      "execution_count": 0,
      "outputs": [
        {
          "output_type": "execute_result",
          "data": {
            "text/plain": [
              "(6705389, 8675160)"
            ]
          },
          "metadata": {
            "tags": []
          },
          "execution_count": 20
        }
      ]
    },
    {
      "cell_type": "markdown",
      "metadata": {
        "id": "0hKwagKCYpJ7",
        "colab_type": "text"
      },
      "source": [
        "That's it! Now you've trained the model! \n",
        "\n",
        "Now let's explore some properties of our new word space. You can get the words most close (read:  most similar) to a given word. Remember, the only texts the model has seen is shakespeare!"
      ]
    },
    {
      "cell_type": "code",
      "metadata": {
        "colab_type": "code",
        "id": "MTGeHhiaZzIU",
        "outputId": "2bc76945-9605-4ba7-9a81-d05402ba39a8",
        "colab": {
          "base_uri": "https://localhost:8080/",
          "height": 213
        }
      },
      "source": [
        "w1 = \"king\"\n",
        "model.wv.most_similar (positive=w1)"
      ],
      "execution_count": 0,
      "outputs": [
        {
          "output_type": "stream",
          "text": [
            "/usr/local/lib/python3.6/dist-packages/gensim/matutils.py:737: FutureWarning: Conversion of the second argument of issubdtype from `int` to `np.signedinteger` is deprecated. In future, it will be treated as `np.int64 == np.dtype(int).type`.\n",
            "  if np.issubdtype(vec.dtype, np.int):\n"
          ],
          "name": "stderr"
        },
        {
          "output_type": "execute_result",
          "data": {
            "text/plain": [
              "[('prince', 0.6378214955329895),\n",
              " ('bolingbroke', 0.5647304654121399),\n",
              " ('fifth', 0.5537053346633911),\n",
              " ('warwick', 0.54485684633255),\n",
              " ('sixth', 0.5389883518218994),\n",
              " ('duke', 0.5386282801628113),\n",
              " ('plantagenet', 0.5061655044555664),\n",
              " ('emperor', 0.5052968859672546),\n",
              " ('ghost', 0.5027565956115723),\n",
              " ('plantagenets', 0.49439385533332825)]"
            ]
          },
          "metadata": {
            "tags": []
          },
          "execution_count": 21
        }
      ]
    },
    {
      "cell_type": "code",
      "metadata": {
        "colab_type": "code",
        "id": "GuJhHUOve1km",
        "outputId": "85712c26-8ece-4dc8-9e89-f6dd8214b6c5",
        "colab": {
          "base_uri": "https://localhost:8080/",
          "height": 148
        }
      },
      "source": [
        "# look up top 6 words similar to 'smile'\n",
        "w1 = [\"smile\"]\n",
        "model.wv.most_similar (positive=w1,topn=6)"
      ],
      "execution_count": 0,
      "outputs": [
        {
          "output_type": "stream",
          "text": [
            "/usr/local/lib/python3.6/dist-packages/gensim/matutils.py:737: FutureWarning: Conversion of the second argument of issubdtype from `int` to `np.signedinteger` is deprecated. In future, it will be treated as `np.int64 == np.dtype(int).type`.\n",
            "  if np.issubdtype(vec.dtype, np.int):\n"
          ],
          "name": "stderr"
        },
        {
          "output_type": "execute_result",
          "data": {
            "text/plain": [
              "[('shine', 0.7052961587905884),\n",
              " ('laugh', 0.7008002400398254),\n",
              " ('scowl', 0.6937710642814636),\n",
              " ('blush', 0.6906042098999023),\n",
              " ('rail', 0.6885910034179688),\n",
              " ('frown', 0.6881653666496277)]"
            ]
          },
          "metadata": {
            "tags": []
          },
          "execution_count": 24
        }
      ]
    },
    {
      "cell_type": "code",
      "metadata": {
        "colab_type": "code",
        "id": "iZu3GGf9e41V",
        "outputId": "7cabf7ab-1edc-46db-86d1-71fc1a2488ee",
        "colab": {
          "base_uri": "https://localhost:8080/",
          "height": 148
        }
      },
      "source": [
        "# look up top 6 words similar to 'france'\n",
        "w1 = [\"france\"]\n",
        "model.wv.most_similar (positive=w1,topn=6)"
      ],
      "execution_count": 0,
      "outputs": [
        {
          "output_type": "stream",
          "text": [
            "/usr/local/lib/python3.6/dist-packages/gensim/matutils.py:737: FutureWarning: Conversion of the second argument of issubdtype from `int` to `np.signedinteger` is deprecated. In future, it will be treated as `np.int64 == np.dtype(int).type`.\n",
            "  if np.issubdtype(vec.dtype, np.int):\n"
          ],
          "name": "stderr"
        },
        {
          "output_type": "execute_result",
          "data": {
            "text/plain": [
              "[('england', 0.6515016555786133),\n",
              " ('venice', 0.5803335905075073),\n",
              " ('princess', 0.5651566386222839),\n",
              " ('wales', 0.557011067867279),\n",
              " ('realm', 0.5547009706497192),\n",
              " ('egypt', 0.5488740801811218)]"
            ]
          },
          "metadata": {
            "tags": []
          },
          "execution_count": 25
        }
      ]
    },
    {
      "cell_type": "code",
      "metadata": {
        "colab_type": "code",
        "id": "VlDIzGHZe9yN",
        "outputId": "7de52926-726d-4d2d-ca96-a5e19eebaa03",
        "colab": {
          "base_uri": "https://localhost:8080/",
          "height": 148
        }
      },
      "source": [
        "# look up top 6 words similar to 'sword'\n",
        "w1 = [\"sword\"]\n",
        "model.wv.most_similar (positive=w1,topn=6)"
      ],
      "execution_count": 0,
      "outputs": [
        {
          "output_type": "stream",
          "text": [
            "/usr/local/lib/python3.6/dist-packages/gensim/matutils.py:737: FutureWarning: Conversion of the second argument of issubdtype from `int` to `np.signedinteger` is deprecated. In future, it will be treated as `np.int64 == np.dtype(int).type`.\n",
            "  if np.issubdtype(vec.dtype, np.int):\n"
          ],
          "name": "stderr"
        },
        {
          "output_type": "execute_result",
          "data": {
            "text/plain": [
              "[('head', 0.7484771609306335),\n",
              " ('knife', 0.7430693507194519),\n",
              " ('pocket', 0.7082068920135498),\n",
              " ('weapon', 0.6980265378952026),\n",
              " ('finger', 0.6969353556632996),\n",
              " ('throat', 0.6943997740745544)]"
            ]
          },
          "metadata": {
            "tags": []
          },
          "execution_count": 28
        }
      ]
    },
    {
      "cell_type": "code",
      "metadata": {
        "colab_type": "code",
        "id": "wvKKzFHbfAnr",
        "outputId": "ac7b0712-df89-44b6-a262-41a0e0ae1f8f",
        "colab": {
          "base_uri": "https://localhost:8080/",
          "height": 213
        }
      },
      "source": [
        "# get everything related to stuff on the royalty and not related to farmer\n",
        "w1 = [\"king\",'queen','prince']\n",
        "w2 = ['farmer']\n",
        "model.wv.most_similar (positive=w1,negative=w2,topn=10)"
      ],
      "execution_count": 0,
      "outputs": [
        {
          "output_type": "stream",
          "text": [
            "/usr/local/lib/python3.6/dist-packages/gensim/matutils.py:737: FutureWarning: Conversion of the second argument of issubdtype from `int` to `np.signedinteger` is deprecated. In future, it will be treated as `np.int64 == np.dtype(int).type`.\n",
            "  if np.issubdtype(vec.dtype, np.int):\n"
          ],
          "name": "stderr"
        },
        {
          "output_type": "execute_result",
          "data": {
            "text/plain": [
              "[('princess', 0.643311619758606),\n",
              " ('warwick', 0.5950518250465393),\n",
              " ('duke', 0.5858191847801208),\n",
              " ('bolingbroke', 0.5788071751594543),\n",
              " ('comfort', 0.5391906499862671),\n",
              " ('ghost', 0.5250290632247925),\n",
              " ('duchess', 0.5234565138816833),\n",
              " ('emperor', 0.5134668350219727),\n",
              " ('cause', 0.4990174174308777),\n",
              " ('cousin', 0.49696117639541626)]"
            ]
          },
          "metadata": {
            "tags": []
          },
          "execution_count": 29
        }
      ]
    },
    {
      "cell_type": "markdown",
      "metadata": {
        "id": "TkQZ1KkiYpK_",
        "colab_type": "text"
      },
      "source": [
        "Explore the similarity (e.g. distance) between two words. Does it make sense?"
      ]
    },
    {
      "cell_type": "code",
      "metadata": {
        "colab_type": "code",
        "id": "3nFv31TxfBMX",
        "outputId": "11b6c7ee-cabc-4a34-dec8-120a7938dedb",
        "colab": {
          "base_uri": "https://localhost:8080/",
          "height": 66
        }
      },
      "source": [
        "# similarity between two similar words\n",
        "model.wv.similarity(w1=\"pretty\",w2=\"beautiful\")"
      ],
      "execution_count": 0,
      "outputs": [
        {
          "output_type": "stream",
          "text": [
            "/usr/local/lib/python3.6/dist-packages/gensim/matutils.py:737: FutureWarning: Conversion of the second argument of issubdtype from `int` to `np.signedinteger` is deprecated. In future, it will be treated as `np.int64 == np.dtype(int).type`.\n",
            "  if np.issubdtype(vec.dtype, np.int):\n"
          ],
          "name": "stderr"
        },
        {
          "output_type": "execute_result",
          "data": {
            "text/plain": [
              "0.58670485"
            ]
          },
          "metadata": {
            "tags": []
          },
          "execution_count": 30
        }
      ]
    },
    {
      "cell_type": "code",
      "metadata": {
        "id": "0PXLoSftYpLO",
        "colab_type": "code",
        "outputId": "93a169ab-5eec-4a76-cb0b-f6e7eb976597",
        "colab": {
          "base_uri": "https://localhost:8080/",
          "height": 66
        }
      },
      "source": [
        "# similarity between two opposing words\n",
        "model.wv.similarity(w1=\"king\",w2=\"farmer\")"
      ],
      "execution_count": 0,
      "outputs": [
        {
          "output_type": "stream",
          "text": [
            "/usr/local/lib/python3.6/dist-packages/gensim/matutils.py:737: FutureWarning: Conversion of the second argument of issubdtype from `int` to `np.signedinteger` is deprecated. In future, it will be treated as `np.int64 == np.dtype(int).type`.\n",
            "  if np.issubdtype(vec.dtype, np.int):\n"
          ],
          "name": "stderr"
        },
        {
          "output_type": "execute_result",
          "data": {
            "text/plain": [
              "-0.027437055"
            ]
          },
          "metadata": {
            "tags": []
          },
          "execution_count": 31
        }
      ]
    },
    {
      "cell_type": "markdown",
      "metadata": {
        "id": "hpftKgByYpLT",
        "colab_type": "text"
      },
      "source": [
        "Try some other combinations :) "
      ]
    },
    {
      "cell_type": "markdown",
      "metadata": {
        "id": "Nw7Aabx4YpLU",
        "colab_type": "text"
      },
      "source": [
        "We can even use it to perform more 'smart' assigments: "
      ]
    },
    {
      "cell_type": "code",
      "metadata": {
        "colab_type": "code",
        "id": "8eO7ra-efKYq",
        "outputId": "69a33fe3-66de-47cb-c13f-9c3e6e480b2c",
        "colab": {
          "base_uri": "https://localhost:8080/",
          "height": 119
        }
      },
      "source": [
        "# Which one is the odd one out in this list?\n",
        "model.wv.doesnt_match([\"cat\",\"dog\",\"france\"])"
      ],
      "execution_count": 0,
      "outputs": [
        {
          "output_type": "stream",
          "text": [
            "/usr/local/lib/python3.6/dist-packages/gensim/models/keyedvectors.py:895: FutureWarning: arrays to stack must be passed as a \"sequence\" type such as list or tuple. Support for non-sequence iterables such as generators is deprecated as of NumPy 1.16 and will raise an error in the future.\n",
            "  vectors = vstack(self.word_vec(word, use_norm=True) for word in used_words).astype(REAL)\n",
            "/usr/local/lib/python3.6/dist-packages/gensim/matutils.py:737: FutureWarning: Conversion of the second argument of issubdtype from `int` to `np.signedinteger` is deprecated. In future, it will be treated as `np.int64 == np.dtype(int).type`.\n",
            "  if np.issubdtype(vec.dtype, np.int):\n"
          ],
          "name": "stderr"
        },
        {
          "output_type": "execute_result",
          "data": {
            "text/plain": [
              "'france'"
            ]
          },
          "metadata": {
            "tags": []
          },
          "execution_count": 32
        }
      ]
    },
    {
      "cell_type": "markdown",
      "metadata": {
        "id": "ll3RsRN2YpL3",
        "colab_type": "text"
      },
      "source": [
        "If you are interested in plotting the words in a multidimensional space, you can actually get the vector coordinates of each word: "
      ]
    },
    {
      "cell_type": "code",
      "metadata": {
        "id": "rEOzUfKcYpL4",
        "colab_type": "code",
        "outputId": "9b5e3e07-3a33-41b3-f488-920cb7eba37c",
        "colab": {
          "base_uri": "https://localhost:8080/",
          "height": 524
        }
      },
      "source": [
        "model.wv['france']"
      ],
      "execution_count": 0,
      "outputs": [
        {
          "output_type": "execute_result",
          "data": {
            "text/plain": [
              "array([ 0.45359972, -0.403246  ,  0.9624179 ,  1.1312684 ,  0.58083695,\n",
              "        0.2687754 ,  0.39745423, -1.2806644 ,  0.6231132 ,  0.8620104 ,\n",
              "       -0.68336535, -0.244317  ,  0.4078813 ,  1.1551543 , -0.3408386 ,\n",
              "        0.48920766,  0.7891542 ,  0.9129484 , -0.34525943,  1.069923  ,\n",
              "       -0.2298096 ,  0.8901286 , -0.37805542, -1.1114231 , -0.35291728,\n",
              "        0.5386852 ,  0.22894965,  0.9423474 ,  0.10847393, -0.02221829,\n",
              "       -0.7291338 ,  0.69749844, -0.58190215, -0.3819045 ,  0.8472276 ,\n",
              "       -0.29343602,  0.19034399,  1.1910968 , -0.33673534, -1.3950459 ,\n",
              "        1.4638193 ,  0.29438415,  0.3000677 , -0.32676804,  0.3482384 ,\n",
              "        1.1790698 ,  0.9856802 ,  0.95259506,  0.9671678 ,  0.37098524,\n",
              "       -0.29525894,  0.29497123, -0.71298176,  0.29176518, -0.7799877 ,\n",
              "       -0.07977512,  0.798437  , -0.6148772 ,  0.03860065, -0.86160445,\n",
              "        0.34200028,  0.32613814, -1.3209859 , -0.18638259, -0.41222724,\n",
              "       -0.925386  , -0.39269534, -0.24757253,  0.90524316, -0.12235654,\n",
              "        0.66774887,  0.21316211, -0.80497307, -0.57664454,  0.83250093,\n",
              "       -0.46728396,  0.91256833,  0.10812001, -0.28860408, -0.31658536,\n",
              "       -0.16266468,  2.50581   ,  0.16791314,  0.7928578 ,  0.9625016 ,\n",
              "       -1.5437641 , -0.77795625, -1.0133519 ,  0.57564723, -0.77946967,\n",
              "       -0.92854947,  0.41880926,  0.14638121,  0.7364916 ,  0.3797786 ,\n",
              "        1.3412961 , -1.0380028 ,  0.8644159 ,  0.49863192, -0.7925026 ,\n",
              "       -0.20920862,  0.52789575, -3.02503   ,  0.87179905, -0.60910046,\n",
              "        1.0909305 , -0.06086494, -0.5221442 , -0.18740271,  0.41674778,\n",
              "       -0.47055888,  1.216354  ,  0.2052866 ,  0.31683815, -0.5621224 ,\n",
              "        0.56250745,  0.2644936 ,  0.32709616, -0.33652112,  0.6775025 ,\n",
              "        0.36434832, -0.13324969,  0.76538515,  0.5104837 ,  0.25397116,\n",
              "       -0.29744285, -0.06751338, -0.02331749, -0.3297129 ,  0.22326982,\n",
              "       -0.17195806,  0.74068856, -1.5920606 , -0.20818162, -0.4940372 ,\n",
              "        0.2221566 , -0.17885749, -0.9574763 , -0.9083037 ,  0.6295436 ,\n",
              "        0.42725098,  0.64175236,  0.24341682,  0.34632903,  1.1156067 ,\n",
              "       -0.01157249, -1.2857049 , -0.11628775,  0.36575872,  1.2129056 ],\n",
              "      dtype=float32)"
            ]
          },
          "metadata": {
            "tags": []
          },
          "execution_count": 33
        }
      ]
    },
    {
      "cell_type": "markdown",
      "metadata": {
        "id": "1_U5DgEPYpMI",
        "colab_type": "text"
      },
      "source": [
        "## Bonus: visualising our model in t-SNE: "
      ]
    },
    {
      "cell_type": "code",
      "metadata": {
        "id": "0g6g7s-MYpMK",
        "colab_type": "code",
        "outputId": "f0a3dc18-1ed8-4fa3-eacf-ff57b8c0e090",
        "colab": {
          "base_uri": "https://localhost:8080/",
          "height": 933
        }
      },
      "source": [
        "from sklearn.manifold import TSNE\n",
        "import matplotlib.pyplot as plt\n",
        "%matplotlib inline\n",
        "\n",
        "def tsne_plot(model):\n",
        "    \"Creates and TSNE model and plots it\"\n",
        "    # fyi: to test specific labels instead of all the words in the vocab:\n",
        "    # labels = ['king', 'queen', 'prince', 'farmer', 'blue', 'red']\n",
        "    # tokens = []\n",
        "    # for label in labels:\n",
        "    # tokens.append(model[label])\n",
        "    labels = []\n",
        "    tokens = []\n",
        "    count = 0\n",
        "    for word in model.wv.vocab:\n",
        "        # to speed up the process, let's limit to the first 100 elements\n",
        "        if count < 100:\n",
        "            tokens.append(model[word])\n",
        "            labels.append(word)\n",
        "            count = count+1\n",
        "    # set the t-sne values\n",
        "    tsne_model = TSNE(perplexity=40, n_components=2, init='pca', n_iter=2500) \n",
        "    new_values = tsne_model.fit_transform(tokens)\n",
        "\n",
        "    x = []\n",
        "    y = []\n",
        "\n",
        "    for value in new_values:\n",
        "        x.append(value[0])\n",
        "        y.append(value[1])\n",
        "    plt.figure(figsize=(16, 16))\n",
        "    for i in range(len(x)):\n",
        "        plt.scatter(x[i],y[i])\n",
        "        plt.annotate(labels[i],\n",
        "        xy=(x[i], y[i]),\n",
        "        xytext=(5, 2),\n",
        "        textcoords='offset points',\n",
        "        ha='right',\n",
        "        va='bottom')\n",
        "    plt.show()\n",
        "\n",
        "tsne_plot(model)"
      ],
      "execution_count": 0,
      "outputs": [
        {
          "output_type": "stream",
          "text": [
            "/usr/local/lib/python3.6/dist-packages/ipykernel_launcher.py:18: DeprecationWarning: Call to deprecated `__getitem__` (Method will be removed in 4.0.0, use self.wv.__getitem__() instead).\n"
          ],
          "name": "stderr"
        },
        {
          "output_type": "display_data",
          "data": {
            "image/png": "[encoded data removed]",
            "text/plain": [
              "<Figure size 1152x1152 with 1 Axes>"
            ]
          },
          "metadata": {
            "tags": []
          }
        }
      ]
    },
    {
      "cell_type": "markdown",
      "metadata": {
        "id": "UsRf6k4wYpMd",
        "colab_type": "text"
      },
      "source": [
        "## References\n",
        "\n",
        "* https://radimrehurek.com/gensim/models/word2vec.html\n",
        "* https://towardsdatascience.com/multi-class-text-classification-model-comparison-and-selection-5eb066197568\n",
        "* https://github.com/kavgan/nlp-text-mining-working-examples/tree/master/word2vec\n",
        "* https://medium.com/@mishra.thedeepak/doc2vec-simple-implementation-example-df2afbbfbad5"
      ]
    }
  ]
}