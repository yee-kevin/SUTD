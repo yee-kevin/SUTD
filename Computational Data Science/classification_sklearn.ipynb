{
 "cells": [
  {
   "cell_type": "markdown",
   "metadata": {
    "colab_type": "text",
    "id": "0CD5FUmV-JlU"
   },
   "source": [
    "# Classification models \n",
    "CDS Class, prepared by Prof. Dorien Herremans, Cheuk Kin Wai, and Yin-Jyun Luo. \n",
    "\n",
    "\n",
    "---\n",
    "\n",
    "\n",
    "\n",
    "\n",
    "\n",
    "\n",
    "Let's start by loading the necessary libraries for this class. The main libraries used are numpy and pandas for data handling and [scikit learn (sklearn)](https://scikit-learn.org/stable/) for classification models. \n"
   ]
  },
  {
   "cell_type": "code",
   "execution_count": 130,
   "metadata": {
    "ExecuteTime": {
     "end_time": "2019-10-18T02:57:38.924289Z",
     "start_time": "2019-10-18T02:57:38.921491Z"
    },
    "colab": {},
    "colab_type": "code",
    "id": "pRVVQV0NQk6I"
   },
   "outputs": [],
   "source": [
    "import matplotlib.pyplot as plt # plotting library\n",
    "import numpy as np # library for numerical calculations\n",
    "import pandas as pd # library for reading csv files"
   ]
  },
  {
   "cell_type": "markdown",
   "metadata": {
    "colab_type": "text",
    "id": "cyJ9gKmxQz4G"
   },
   "source": [
    "## Walkthrough example of different classification methods\n",
    "\n",
    "To become familiar with the classification models, please follow the instructions below. \n",
    "\n",
    "### Problem description and preparing dataset\n",
    "\n",
    "Let's start doing some classification on the Heart Disease dataset from Kaggle at https://www.kaggle.com/ronitf/heart-disease-uci. The dataset has 303 patients and 13 features for each patient. \n",
    "\n",
    "You can find the dataset at the link above, or directly load it like shown below: \n"
   ]
  },
  {
   "cell_type": "code",
   "execution_count": 131,
   "metadata": {
    "ExecuteTime": {
     "end_time": "2019-10-18T02:57:40.311301Z",
     "start_time": "2019-10-18T02:57:38.926357Z"
    },
    "colab": {},
    "colab_type": "code",
    "id": "5BNccumSb8iY"
   },
   "outputs": [
    {
     "name": "stdout",
     "output_type": "stream",
     "text": [
      "Will not apply HSTS. The HSTS database must be a regular and non-world-writable file.\n",
      "ERROR: could not open HSTS store at '/home/ubuntu_wsl_kevin/.wget-hsts'. HSTS will be disabled.\n",
      "--2019-10-18 10:57:39--  https://dorienherremans.com/drop/CDS/classification/heart.csv\n",
      "Resolving dorienherremans.com (dorienherremans.com)... 96.127.180.74\n",
      "Connecting to dorienherremans.com (dorienherremans.com)|96.127.180.74|:443... connected.\n",
      "HTTP request sent, awaiting response... 416 Requested range not satisfiable\n",
      "\n",
      "    The file is already fully retrieved; nothing to do.\n",
      "\n"
     ]
    },
    {
     "data": {
      "text/html": [
       "<div>\n",
       "<style scoped>\n",
       "    .dataframe tbody tr th:only-of-type {\n",
       "        vertical-align: middle;\n",
       "    }\n",
       "\n",
       "    .dataframe tbody tr th {\n",
       "        vertical-align: top;\n",
       "    }\n",
       "\n",
       "    .dataframe thead th {\n",
       "        text-align: right;\n",
       "    }\n",
       "</style>\n",
       "<table border=\"1\" class=\"dataframe\">\n",
       "  <thead>\n",
       "    <tr style=\"text-align: right;\">\n",
       "      <th></th>\n",
       "      <th>age</th>\n",
       "      <th>sex</th>\n",
       "      <th>cp</th>\n",
       "      <th>trestbps</th>\n",
       "      <th>chol</th>\n",
       "      <th>fbs</th>\n",
       "      <th>restecg</th>\n",
       "      <th>thalach</th>\n",
       "      <th>exang</th>\n",
       "      <th>oldpeak</th>\n",
       "      <th>slope</th>\n",
       "      <th>ca</th>\n",
       "      <th>thal</th>\n",
       "      <th>target</th>\n",
       "    </tr>\n",
       "  </thead>\n",
       "  <tbody>\n",
       "    <tr>\n",
       "      <td>0</td>\n",
       "      <td>63</td>\n",
       "      <td>1</td>\n",
       "      <td>3</td>\n",
       "      <td>145</td>\n",
       "      <td>233</td>\n",
       "      <td>1</td>\n",
       "      <td>0</td>\n",
       "      <td>150</td>\n",
       "      <td>0</td>\n",
       "      <td>2.3</td>\n",
       "      <td>0</td>\n",
       "      <td>0</td>\n",
       "      <td>1</td>\n",
       "      <td>1</td>\n",
       "    </tr>\n",
       "    <tr>\n",
       "      <td>1</td>\n",
       "      <td>37</td>\n",
       "      <td>1</td>\n",
       "      <td>2</td>\n",
       "      <td>130</td>\n",
       "      <td>250</td>\n",
       "      <td>0</td>\n",
       "      <td>1</td>\n",
       "      <td>187</td>\n",
       "      <td>0</td>\n",
       "      <td>3.5</td>\n",
       "      <td>0</td>\n",
       "      <td>0</td>\n",
       "      <td>2</td>\n",
       "      <td>1</td>\n",
       "    </tr>\n",
       "    <tr>\n",
       "      <td>2</td>\n",
       "      <td>41</td>\n",
       "      <td>0</td>\n",
       "      <td>1</td>\n",
       "      <td>130</td>\n",
       "      <td>204</td>\n",
       "      <td>0</td>\n",
       "      <td>0</td>\n",
       "      <td>172</td>\n",
       "      <td>0</td>\n",
       "      <td>1.4</td>\n",
       "      <td>2</td>\n",
       "      <td>0</td>\n",
       "      <td>2</td>\n",
       "      <td>1</td>\n",
       "    </tr>\n",
       "    <tr>\n",
       "      <td>3</td>\n",
       "      <td>56</td>\n",
       "      <td>1</td>\n",
       "      <td>1</td>\n",
       "      <td>120</td>\n",
       "      <td>236</td>\n",
       "      <td>0</td>\n",
       "      <td>1</td>\n",
       "      <td>178</td>\n",
       "      <td>0</td>\n",
       "      <td>0.8</td>\n",
       "      <td>2</td>\n",
       "      <td>0</td>\n",
       "      <td>2</td>\n",
       "      <td>1</td>\n",
       "    </tr>\n",
       "    <tr>\n",
       "      <td>4</td>\n",
       "      <td>57</td>\n",
       "      <td>0</td>\n",
       "      <td>0</td>\n",
       "      <td>120</td>\n",
       "      <td>354</td>\n",
       "      <td>0</td>\n",
       "      <td>1</td>\n",
       "      <td>163</td>\n",
       "      <td>1</td>\n",
       "      <td>0.6</td>\n",
       "      <td>2</td>\n",
       "      <td>0</td>\n",
       "      <td>2</td>\n",
       "      <td>1</td>\n",
       "    </tr>\n",
       "  </tbody>\n",
       "</table>\n",
       "</div>"
      ],
      "text/plain": [
       "   age  sex  cp  trestbps  chol  fbs  restecg  thalach  exang  oldpeak  slope  \\\n",
       "0   63    1   3       145   233    1        0      150      0      2.3      0   \n",
       "1   37    1   2       130   250    0        1      187      0      3.5      0   \n",
       "2   41    0   1       130   204    0        0      172      0      1.4      2   \n",
       "3   56    1   1       120   236    0        1      178      0      0.8      2   \n",
       "4   57    0   0       120   354    0        1      163      1      0.6      2   \n",
       "\n",
       "   ca  thal  target  \n",
       "0   0     1       1  \n",
       "1   0     2       1  \n",
       "2   0     2       1  \n",
       "3   0     2       1  \n",
       "4   0     2       1  "
      ]
     },
     "execution_count": 131,
     "metadata": {},
     "output_type": "execute_result"
    }
   ],
   "source": [
    "# Download the csv file to your root folder:\n",
    "!wget -P / -c 'https://dorienherremans.com/drop/CDS/classification/heart.csv'\n",
    "data = pd.read_csv('heart.csv') # loading dataset\n",
    "data.head() #check if it's loaded correctly"
   ]
  },
  {
   "cell_type": "markdown",
   "metadata": {
    "colab_type": "text",
    "id": "tNl7rqzW6EQ8"
   },
   "source": [
    "Let's make the data nicer. Since the column headers are a bit heard to read, we can override them to provide more easy to understand labels:"
   ]
  },
  {
   "cell_type": "code",
   "execution_count": 132,
   "metadata": {
    "ExecuteTime": {
     "end_time": "2019-10-18T02:57:40.331200Z",
     "start_time": "2019-10-18T02:57:40.321908Z"
    },
    "colab": {},
    "colab_type": "code",
    "id": "9uwN838fePM2"
   },
   "outputs": [],
   "source": [
    "# Give a better name to each column\n",
    "data.columns = ['age', 'sex', 'chest_pain_type', 'resting_blood_pressure', 'cholesterol', 'fasting_blood_sugar', 'rest_ecg', 'max_heart_rate_achieved',\n",
    "       'exercise_induced_angina', 'st_depression', 'st_slope', 'num_major_vessels', 'thalassemia', 'target']"
   ]
  },
  {
   "cell_type": "markdown",
   "metadata": {
    "colab_type": "text",
    "id": "_BzbbuFFm3-L"
   },
   "source": [
    "Let's check how balanced our dataset is. "
   ]
  },
  {
   "cell_type": "code",
   "execution_count": 133,
   "metadata": {
    "ExecuteTime": {
     "end_time": "2019-10-18T02:57:40.608933Z",
     "start_time": "2019-10-18T02:57:40.338093Z"
    },
    "colab": {},
    "colab_type": "code",
    "id": "OONYrA4bm3zN"
   },
   "outputs": [
    {
     "data": {
      "image/png": "[encoded data removed]",
      "text/plain": [
       "<Figure size 432x288 with 1 Axes>"
      ]
     },
     "metadata": {
      "needs_background": "light"
     },
     "output_type": "display_data"
    }
   ],
   "source": [
    "import seaborn as sns\n",
    "import matplotlib.pyplot as plt\n",
    "#breakdown by class\n",
    "sns.countplot(x=\"target\", data=data, palette=\"muted\");"
   ]
  },
  {
   "cell_type": "markdown",
   "metadata": {
    "colab_type": "text",
    "id": "PO77DQcZKFS_"
   },
   "source": [
    "It's almost balanced, but not entirely, so during evaluation, let's make sure to check F1 values and AUC instead of just accuracy. \n",
    "\n",
    "We also need to make sure that the system recognises our data as being categorical appropriately. "
   ]
  },
  {
   "cell_type": "code",
   "execution_count": 134,
   "metadata": {
    "ExecuteTime": {
     "end_time": "2019-10-18T02:57:40.620889Z",
     "start_time": "2019-10-18T02:57:40.611924Z"
    },
    "colab": {},
    "colab_type": "code",
    "id": "_79UlghVU0ed"
   },
   "outputs": [
    {
     "data": {
      "text/plain": [
       "age                          int64\n",
       "sex                          int64\n",
       "chest_pain_type              int64\n",
       "resting_blood_pressure       int64\n",
       "cholesterol                  int64\n",
       "fasting_blood_sugar          int64\n",
       "rest_ecg                     int64\n",
       "max_heart_rate_achieved      int64\n",
       "exercise_induced_angina      int64\n",
       "st_depression              float64\n",
       "st_slope                     int64\n",
       "num_major_vessels            int64\n",
       "thalassemia                  int64\n",
       "target                       int64\n",
       "dtype: object"
      ]
     },
     "execution_count": 134,
     "metadata": {},
     "output_type": "execute_result"
    }
   ],
   "source": [
    "data.dtypes"
   ]
  },
  {
   "cell_type": "markdown",
   "metadata": {
    "colab_type": "text",
    "id": "hzs1jAItU0lX"
   },
   "source": [
    "This looks good. Everything is an integer, except for the continuous variables. In the case where categories are stored as strings, you need to correct this with: \n",
    "\n",
    "data['Class'] = pd.Categorical(data['Class'])\n",
    "\n",
    "data['Class'] = data['Class'].cat.codes\n",
    "\n",
    "In our case all is well. "
   ]
  },
  {
   "cell_type": "markdown",
   "metadata": {
    "colab_type": "text",
    "id": "XinuntO4z3Q0"
   },
   "source": [
    "Looking at the header, the prediction task is now clear: we need to predict if target = 1, meaning heart disease is present. \n",
    "\n",
    "To properly evaluate models, we **create a test and training set** with 30% split using train_test_split. "
   ]
  },
  {
   "cell_type": "code",
   "execution_count": 135,
   "metadata": {
    "ExecuteTime": {
     "end_time": "2019-10-18T02:57:40.645995Z",
     "start_time": "2019-10-18T02:57:40.624212Z"
    },
    "colab": {},
    "colab_type": "code",
    "id": "EX4WMdCUh5z6"
   },
   "outputs": [],
   "source": [
    "from sklearn.model_selection import train_test_split\n",
    "# data = pd.get_dummies(data, drop_first=True)\n",
    "# We split the data up into a test set and a training set, 30 - 70 %\n",
    "# train_test_split\n",
    "# First argument: x data is all data without class column\n",
    "# Second argument: this is the class label column\n",
    "# Random state = 0: ensures the train and test splitting is deterministic.\n",
    "# Otherwise every student would get a different train test split.\n",
    "X_train, X_test, y_train, y_test = train_test_split(\n",
    "    data.drop('target',1),\n",
    "    data['target'],\n",
    "    test_size=0.3,\n",
    "    random_state=0)"
   ]
  },
  {
   "cell_type": "markdown",
   "metadata": {
    "colab_type": "text",
    "id": "o-Q1FrzvVV7Q"
   },
   "source": [
    "Most classifiers will work best if the data is normalized. We can easily do this by using the MinMaxScaler fuction. \n"
   ]
  },
  {
   "cell_type": "code",
   "execution_count": 136,
   "metadata": {
    "ExecuteTime": {
     "end_time": "2019-10-18T02:57:40.664434Z",
     "start_time": "2019-10-18T02:57:40.651564Z"
    },
    "colab": {},
    "colab_type": "code",
    "id": "a_E3AMIc9tzI"
   },
   "outputs": [],
   "source": [
    " from sklearn.preprocessing import MinMaxScaler\n",
    "# define a new scaler:\n",
    "x_scaler = MinMaxScaler()\n",
    "# fit the normalization on the training set:\n",
    "x_scaler.fit(X_train)\n",
    "# then create new and normalized training/test sets:\n",
    "X_train_norm = x_scaler.transform(X_train)\n",
    "X_test_norm = x_scaler.transform(X_test)"
   ]
  },
  {
   "cell_type": "markdown",
   "metadata": {
    "colab_type": "text",
    "id": "5S9UfiOQT4ml"
   },
   "source": [
    "### Model 1: Decision Trees"
   ]
  },
  {
   "cell_type": "markdown",
   "metadata": {
    "colab_type": "text",
    "id": "KYOgQbN1UIgs"
   },
   "source": [
    "Let's import the sklearn library for CART decision trees, and define a variable 'model' to hold our CART tree model. We can specify some pruning/early stopping parameters so that the size of the tree can be adjusted. "
   ]
  },
  {
   "cell_type": "code",
   "execution_count": 137,
   "metadata": {
    "ExecuteTime": {
     "end_time": "2019-10-18T02:57:40.684921Z",
     "start_time": "2019-10-18T02:57:40.669065Z"
    },
    "colab": {},
    "colab_type": "code",
    "id": "Xrgj22A9T4bt"
   },
   "outputs": [],
   "source": [
    "# from sklearn.tree import DecisionTreeClassifier\n",
    "from sklearn import tree\n",
    "model = tree.DecisionTreeClassifier(max_depth=3, min_samples_leaf=1)\n",
    "# Using default parameters"
   ]
  },
  {
   "cell_type": "markdown",
   "metadata": {
    "colab_type": "text",
    "id": "gjfBdBecT4QN"
   },
   "source": [
    "Let's train the model by passing it our training data X_train and labels y_train. Note that decision trees don't need normalized data, in this case it may be easier to understand with the original data (so we are using X_train, not X_train_norm as we do in the other models): "
   ]
  },
  {
   "cell_type": "code",
   "execution_count": 138,
   "metadata": {
    "ExecuteTime": {
     "end_time": "2019-10-18T02:57:40.702687Z",
     "start_time": "2019-10-18T02:57:40.690370Z"
    },
    "colab": {},
    "colab_type": "code",
    "id": "wlmTUjBFT3pN"
   },
   "outputs": [
    {
     "data": {
      "text/plain": [
       "DecisionTreeClassifier(class_weight=None, criterion='gini', max_depth=3,\n",
       "                       max_features=None, max_leaf_nodes=None,\n",
       "                       min_impurity_decrease=0.0, min_impurity_split=None,\n",
       "                       min_samples_leaf=1, min_samples_split=2,\n",
       "                       min_weight_fraction_leaf=0.0, presort=False,\n",
       "                       random_state=None, splitter='best')"
      ]
     },
     "execution_count": 138,
     "metadata": {},
     "output_type": "execute_result"
    }
   ],
   "source": [
    "model.fit(X_train, y_train) # Training model"
   ]
  },
  {
   "cell_type": "markdown",
   "metadata": {
    "colab_type": "text",
    "id": "omH5Mwu_UMSd"
   },
   "source": [
    "Notice how the options above let you tweek the classifier (e.g. criterion Gini coefficient). This model trained really fast! But how good is it?\n",
    "\n",
    "I've emphasized the importance of evaluating models using multiple metrics in class. Let's **define a function called\n",
    "evaluate_on_training_set, which will print out all of out metrics**. This will save us some time throughout the lab. "
   ]
  },
  {
   "cell_type": "code",
   "execution_count": 139,
   "metadata": {
    "ExecuteTime": {
     "end_time": "2019-10-18T02:57:40.719336Z",
     "start_time": "2019-10-18T02:57:40.706639Z"
    },
    "colab": {},
    "colab_type": "code",
    "id": "GwqSjJrgXYvg"
   },
   "outputs": [],
   "source": [
    "from sklearn.metrics import classification_report, confusion_matrix\n",
    "from sklearn.metrics import roc_curve, roc_auc_score\n",
    "def evaluate_on_training_set(y_test, y_pred):\n",
    "    # Calculate AUC\n",
    "    print(\"AUC is: \", roc_auc_score(y_test, y_pred))\n",
    "    # print out recall and precision\n",
    "    print(classification_report(y_test, y_pred))\n",
    "    # print out confusion matrix\n",
    "    print(\"Confusion Matrix: \\n\", confusion_matrix(y_test, y_pred))\n",
    "    # # calculate points for ROC curve\n",
    "    fpr, tpr, thresholds = roc_curve(y_test, y_pred)\n",
    "    # Plot ROC curve\n",
    "    plt.plot(fpr, tpr, label='ROC curve (area = %0.3f)' % roc_auc_score(y_test, y_pred))\n",
    "    plt.plot([0, 1], [0, 1], 'k--') # random predictions curve\n",
    "    plt.xlim([0.0, 1.0])\n",
    "    plt.ylim([0.0, 1.0])\n",
    "    plt.xlabel('False Positive Rate or (1 - Specifity)')\n",
    "    plt.ylabel('True Positive Rate or (Sensitivity)')\n",
    "    plt.title('Receiver Operating Characteristic')"
   ]
  },
  {
   "cell_type": "markdown",
   "metadata": {
    "colab_type": "text",
    "id": "w6oR4zwwYWTg"
   },
   "source": [
    "Using this new function we can now make predictions for our newly trained model 'model' and get the evaluation metrics: \n"
   ]
  },
  {
   "cell_type": "code",
   "execution_count": 140,
   "metadata": {
    "ExecuteTime": {
     "end_time": "2019-10-18T02:57:41.053081Z",
     "start_time": "2019-10-18T02:57:40.722623Z"
    },
    "colab": {},
    "colab_type": "code",
    "id": "CAZ4xBNMUOdU"
   },
   "outputs": [
    {
     "name": "stdout",
     "output_type": "stream",
     "text": [
      "AUC is:  0.8104448742746615\n",
      "              precision    recall  f1-score   support\n",
      "\n",
      "           0       0.86      0.73      0.79        44\n",
      "           1       0.78      0.89      0.83        47\n",
      "\n",
      "    accuracy                           0.81        91\n",
      "   macro avg       0.82      0.81      0.81        91\n",
      "weighted avg       0.82      0.81      0.81        91\n",
      "\n",
      "Confusion Matrix: \n",
      " [[32 12]\n",
      " [ 5 42]]\n"
     ]
    },
    {
     "data": {
      "image/png": "[encoded data removed]",
      "text/plain": [
       "<Figure size 432x288 with 1 Axes>"
      ]
     },
     "metadata": {
      "needs_background": "light"
     },
     "output_type": "display_data"
    }
   ],
   "source": [
    "y_pred = model.predict(X_test) # Predicting labels for our test set using model\n",
    "evaluate_on_training_set(y_test, y_pred) #evaluate our model using new function"
   ]
  },
  {
   "cell_type": "markdown",
   "metadata": {
    "colab_type": "text",
    "id": "caPHKHy7wq54"
   },
   "source": [
    "Finally, what does the actual tree look like? You can experiment yourself how the tree (and the accuracy) changes when we set different pruning parameters. "
   ]
  },
  {
   "cell_type": "code",
   "execution_count": 141,
   "metadata": {
    "ExecuteTime": {
     "end_time": "2019-10-18T02:57:42.143197Z",
     "start_time": "2019-10-18T02:57:41.055898Z"
    },
    "colab": {},
    "colab_type": "code",
    "id": "owDNZ2-PwJvY"
   },
   "outputs": [
    {
     "data": {
      "text/plain": [
       "[Text(390.6, 570.7800000000001, 'X[2] <= 0.5\\ngini = 0.494\\nsamples = 212\\nvalue = [94, 118]'),\n",
       " Text(195.3, 407.70000000000005, 'X[11] <= 0.5\\ngini = 0.415\\nsamples = 102\\nvalue = [72, 30]'),\n",
       " Text(97.65, 244.62, 'X[12] <= 2.5\\ngini = 0.492\\nsamples = 48\\nvalue = [21, 27]'),\n",
       " Text(48.825, 81.53999999999996, 'gini = 0.328\\nsamples = 29\\nvalue = [6, 23]'),\n",
       " Text(146.47500000000002, 81.53999999999996, 'gini = 0.332\\nsamples = 19\\nvalue = [15, 4]'),\n",
       " Text(292.95000000000005, 244.62, 'X[0] <= 63.5\\ngini = 0.105\\nsamples = 54\\nvalue = [51, 3]'),\n",
       " Text(244.125, 81.53999999999996, 'gini = 0.0\\nsamples = 43\\nvalue = [43, 0]'),\n",
       " Text(341.77500000000003, 81.53999999999996, 'gini = 0.397\\nsamples = 11\\nvalue = [8, 3]'),\n",
       " Text(585.9000000000001, 407.70000000000005, 'X[9] <= 1.95\\ngini = 0.32\\nsamples = 110\\nvalue = [22, 88]'),\n",
       " Text(488.25, 244.62, 'X[7] <= 152.5\\ngini = 0.255\\nsamples = 100\\nvalue = [15, 85]'),\n",
       " Text(439.425, 81.53999999999996, 'gini = 0.438\\nsamples = 34\\nvalue = [11, 23]'),\n",
       " Text(537.075, 81.53999999999996, 'gini = 0.114\\nsamples = 66\\nvalue = [4, 62]'),\n",
       " Text(683.5500000000001, 244.62, 'X[10] <= 0.5\\ngini = 0.42\\nsamples = 10\\nvalue = [7, 3]'),\n",
       " Text(634.725, 81.53999999999996, 'gini = 0.0\\nsamples = 3\\nvalue = [0, 3]'),\n",
       " Text(732.375, 81.53999999999996, 'gini = 0.0\\nsamples = 7\\nvalue = [7, 0]')]"
      ]
     },
     "execution_count": 141,
     "metadata": {},
     "output_type": "execute_result"
    },
    {
     "data": {
      "image/png": "[encoded data removed]",
      "text/plain": [
       "<Figure size 1008x864 with 1 Axes>"
      ]
     },
     "metadata": {
      "needs_background": "light"
     },
     "output_type": "display_data"
    }
   ],
   "source": [
    "plt.figure(figsize=(14,12))\n",
    "tree.plot_tree(model)"
   ]
  },
  {
   "cell_type": "markdown",
   "metadata": {
    "colab_type": "text",
    "id": "ej4HeSRpAbyV"
   },
   "source": [
    "### Model 2: K Nearest Neighbor Classifier\n",
    "\n",
    "Let's explore the kNN algorithm. As you've seen in class. It's a very simple algorithm, however, it needs a lot of time to compute all distances. \n",
    "\n",
    "Similar to before, we first load the library and define the model with parameters (here only the parameter k is needed). "
   ]
  },
  {
   "cell_type": "code",
   "execution_count": 142,
   "metadata": {
    "ExecuteTime": {
     "end_time": "2019-10-18T02:57:42.150309Z",
     "start_time": "2019-10-18T02:57:42.146205Z"
    },
    "colab": {},
    "colab_type": "code",
    "id": "n50Cahe4Abyu"
   },
   "outputs": [],
   "source": [
    "from sklearn.neighbors import KNeighborsClassifier\n",
    "model = KNeighborsClassifier(n_neighbors=10) # Define the model with parameters"
   ]
  },
  {
   "cell_type": "markdown",
   "metadata": {
    "colab_type": "text",
    "id": "cfKnOPbdAbzB"
   },
   "source": [
    "We can then proceed to train the model using the fit command and evaluate it using the function we defined before: "
   ]
  },
  {
   "cell_type": "code",
   "execution_count": 143,
   "metadata": {
    "ExecuteTime": {
     "end_time": "2019-10-18T02:57:42.484710Z",
     "start_time": "2019-10-18T02:57:42.153498Z"
    },
    "colab": {},
    "colab_type": "code",
    "id": "5wZLBhLzAbzH"
   },
   "outputs": [
    {
     "name": "stdout",
     "output_type": "stream",
     "text": [
      "AUC is:  0.7550773694390717\n",
      "              precision    recall  f1-score   support\n",
      "\n",
      "           0       0.81      0.66      0.73        44\n",
      "           1       0.73      0.85      0.78        47\n",
      "\n",
      "    accuracy                           0.76        91\n",
      "   macro avg       0.77      0.76      0.75        91\n",
      "weighted avg       0.77      0.76      0.76        91\n",
      "\n",
      "Confusion Matrix: \n",
      " [[29 15]\n",
      " [ 7 40]]\n"
     ]
    },
    {
     "data": {
      "image/png": "[encoded data removed]",
      "text/plain": [
       "<Figure size 432x288 with 1 Axes>"
      ]
     },
     "metadata": {
      "needs_background": "light"
     },
     "output_type": "display_data"
    }
   ],
   "source": [
    "model.fit(X_train_norm, y_train) # Training the model\n",
    "# Evaluate the model:\n",
    "y_pred = model.predict(X_test_norm) # Predicting labels for our test set using trained model\n",
    "evaluate_on_training_set(y_test, y_pred) #evaluate our model using newly defined funct"
   ]
  },
  {
   "cell_type": "markdown",
   "metadata": {
    "colab_type": "text",
    "id": "sg9vW0qE5XUl"
   },
   "source": [
    "It's extremely important to set a good value for k, so you will need to test this. E.g. try running the above code with k = 5. See any change? Your F1 scores should go up! "
   ]
  },
  {
   "cell_type": "markdown",
   "metadata": {
    "colab_type": "text",
    "id": "H4zwXi4ZhrfI"
   },
   "source": [
    "### Model 3: Logistic Regression\n",
    "\n",
    "Let's move on to a very powerful, yet fast model: Logistic Regression. Again, we start by loading the library and defining the model together with its parameters. \n",
    "\n",
    "In this case, multi_class auto will detect the number of classes automatically, C is our regularisation parameter, and solver is the optimization algorithm used to fit the model: \n",
    "* For small datasets, ‘liblinear’ is a good choice, whereas ‘sag’ and ‘saga’ are faster for large ones.\n",
    "* For multiclass problems, only ‘newton-cg’, ‘sag’, ‘saga’ and ‘lbfgs’ handle multinomial loss; ‘liblinear’ is limited to one-versus-rest schemes.\n",
    "* ‘newton-cg’, ‘lbfgs’, ‘sag’ and ‘saga’ handle L2 or no penalty\n",
    "* ‘liblinear’ and ‘saga’ also handle L1 penalty\n",
    "* ‘saga’ also supports ‘elasticnet’ penalty\n",
    "* ‘liblinear’ does not handle no penalty"
   ]
  },
  {
   "cell_type": "code",
   "execution_count": 144,
   "metadata": {
    "ExecuteTime": {
     "end_time": "2019-10-18T02:57:42.492443Z",
     "start_time": "2019-10-18T02:57:42.487722Z"
    },
    "colab": {},
    "colab_type": "code",
    "id": "fLIt5YndT50m"
   },
   "outputs": [],
   "source": [
    "from sklearn.linear_model import LogisticRegression\n",
    "model = LogisticRegression(C=1.0, multi_class='auto', solver='lbfgs')\n",
    "# Define the model with parameters"
   ]
  },
  {
   "cell_type": "markdown",
   "metadata": {
    "colab_type": "text",
    "id": "PnxXpOEAT5Xv"
   },
   "source": [
    "We can the train and evaluate the model like usual: "
   ]
  },
  {
   "cell_type": "code",
   "execution_count": 145,
   "metadata": {
    "ExecuteTime": {
     "end_time": "2019-10-18T02:57:42.824411Z",
     "start_time": "2019-10-18T02:57:42.496327Z"
    },
    "colab": {},
    "colab_type": "code",
    "id": "_QBgzuzXT5RQ"
   },
   "outputs": [
    {
     "name": "stdout",
     "output_type": "stream",
     "text": [
      "AUC is:  0.7884429400386848\n",
      "              precision    recall  f1-score   support\n",
      "\n",
      "           0       0.84      0.70      0.77        44\n",
      "           1       0.76      0.87      0.81        47\n",
      "\n",
      "    accuracy                           0.79        91\n",
      "   macro avg       0.80      0.79      0.79        91\n",
      "weighted avg       0.80      0.79      0.79        91\n",
      "\n",
      "Confusion Matrix: \n",
      " [[31 13]\n",
      " [ 6 41]]\n"
     ]
    },
    {
     "data": {
      "image/png": "[encoded data removed]",
      "text/plain": [
       "<Figure size 432x288 with 1 Axes>"
      ]
     },
     "metadata": {
      "needs_background": "light"
     },
     "output_type": "display_data"
    }
   ],
   "source": [
    "model.fit(X_train_norm, y_train) # Training the model\n",
    "y_pred = model.predict(X_test_norm) # Predicting labels for our test set using trained model\n",
    "evaluate_on_training_set(y_test, y_pred) #evaluate our model using newly defined function"
   ]
  },
  {
   "cell_type": "markdown",
   "metadata": {
    "colab_type": "text",
    "id": "ccCDO_059GQt"
   },
   "source": [
    "This is a fast model again, with rather good output. "
   ]
  },
  {
   "cell_type": "markdown",
   "metadata": {
    "colab_type": "text",
    "id": "PDH79leQBhhG"
   },
   "source": [
    "### Model 4: Gaussian Naive Bayes\n",
    "\n",
    "Let's create a Naive Bayes model. There are a [number of variants on this model to choose](https://scikit-learn.org/stable/modules/naive_bayes.html) from in Scikit learn, let's pick the Gaussian variant. Same thing as always, we load the library and define the model: "
   ]
  },
  {
   "cell_type": "code",
   "execution_count": 146,
   "metadata": {
    "ExecuteTime": {
     "end_time": "2019-10-18T02:57:42.831393Z",
     "start_time": "2019-10-18T02:57:42.827370Z"
    },
    "colab": {},
    "colab_type": "code",
    "id": "OGd4wUJlBhhS"
   },
   "outputs": [],
   "source": [
    "from sklearn.naive_bayes import GaussianNB\n",
    "model = GaussianNB() # Define the model with parameters"
   ]
  },
  {
   "cell_type": "markdown",
   "metadata": {
    "colab_type": "text",
    "id": "sJG3BrjMBhhd"
   },
   "source": [
    "We can proceed to train (fit) the model and evaluate: "
   ]
  },
  {
   "cell_type": "code",
   "execution_count": 147,
   "metadata": {
    "ExecuteTime": {
     "end_time": "2019-10-18T02:57:43.157853Z",
     "start_time": "2019-10-18T02:57:42.834292Z"
    },
    "colab": {},
    "colab_type": "code",
    "id": "K7gc7fHHBhhi"
   },
   "outputs": [
    {
     "name": "stdout",
     "output_type": "stream",
     "text": [
      "AUC is:  0.799806576402321\n",
      "              precision    recall  f1-score   support\n",
      "\n",
      "           0       0.84      0.73      0.78        44\n",
      "           1       0.77      0.87      0.82        47\n",
      "\n",
      "    accuracy                           0.80        91\n",
      "   macro avg       0.81      0.80      0.80        91\n",
      "weighted avg       0.81      0.80      0.80        91\n",
      "\n",
      "Confusion Matrix: \n",
      " [[32 12]\n",
      " [ 6 41]]\n"
     ]
    },
    {
     "data": {
      "image/png": "[encoded data removed]",
      "text/plain": [
       "<Figure size 432x288 with 1 Axes>"
      ]
     },
     "metadata": {
      "needs_background": "light"
     },
     "output_type": "display_data"
    }
   ],
   "source": [
    "model.fit(X_train_norm, y_train) # Training the model\n",
    "y_pred = model.predict(X_test_norm) # Predicting labels for our test set using trained model\n",
    "evaluate_on_training_set(y_test, y_pred) #evaluate our model using newly defined funct"
   ]
  },
  {
   "cell_type": "markdown",
   "metadata": {
    "colab_type": "text",
    "id": "7fFvlmdg-WKN"
   },
   "source": [
    "Not a bad result! Gaussian models often perform well with smaller datasets as they fit the limited data to a distribution. "
   ]
  },
  {
   "cell_type": "markdown",
   "metadata": {
    "colab_type": "text",
    "id": "Y29Xe17lV2NX"
   },
   "source": [
    "### Model 5: SVM"
   ]
  },
  {
   "cell_type": "markdown",
   "metadata": {
    "colab_type": "text",
    "id": "0pQZCVX9SiL7"
   },
   "source": [
    "Support Vector Machines offer a very powerful way to transform our data by implementing a 'kernel trick'. Hence, when we define our model, we need to specify our kernel. The results will be highly dependant on the kernel value and the regularisation parameter C. \n",
    "\n",
    "The kernel can be: ‘linear’, ‘poly’, ‘rbf’, ‘sigmoid’, ‘precomputed’. If none is given, ‘rbf’ will be used."
   ]
  },
  {
   "cell_type": "code",
   "execution_count": 148,
   "metadata": {
    "ExecuteTime": {
     "end_time": "2019-10-18T02:57:43.177055Z",
     "start_time": "2019-10-18T02:57:43.164180Z"
    },
    "colab": {},
    "colab_type": "code",
    "id": "M6HvqJQAV5Fi"
   },
   "outputs": [
    {
     "data": {
      "text/plain": [
       "SVC(C=10, cache_size=200, class_weight=None, coef0=0.0,\n",
       "    decision_function_shape='ovr', degree=3, gamma='auto', kernel='rbf',\n",
       "    max_iter=-1, probability=False, random_state=None, shrinking=True,\n",
       "    tol=0.001, verbose=False)"
      ]
     },
     "execution_count": 148,
     "metadata": {},
     "output_type": "execute_result"
    }
   ],
   "source": [
    "from sklearn.svm import SVC\n",
    "model = SVC(C=10, gamma='auto', kernel='rbf')\n",
    "model.fit(X_train_norm, y_train)"
   ]
  },
  {
   "cell_type": "markdown",
   "metadata": {
    "colab_type": "text",
    "id": "apT-Sk1hSmPp"
   },
   "source": [
    "As usual, we use the exact same commands to train and evaluate the model: "
   ]
  },
  {
   "cell_type": "code",
   "execution_count": 149,
   "metadata": {
    "ExecuteTime": {
     "end_time": "2019-10-18T02:57:43.504267Z",
     "start_time": "2019-10-18T02:57:43.181131Z"
    },
    "colab": {},
    "colab_type": "code",
    "id": "ngMA8wrOSruL"
   },
   "outputs": [
    {
     "name": "stdout",
     "output_type": "stream",
     "text": [
      "AUC is:  0.7983558994197292\n",
      "              precision    recall  f1-score   support\n",
      "\n",
      "           0       0.88      0.68      0.77        44\n",
      "           1       0.75      0.91      0.83        47\n",
      "\n",
      "    accuracy                           0.80        91\n",
      "   macro avg       0.82      0.80      0.80        91\n",
      "weighted avg       0.82      0.80      0.80        91\n",
      "\n",
      "Confusion Matrix: \n",
      " [[30 14]\n",
      " [ 4 43]]\n"
     ]
    },
    {
     "data": {
      "image/png": "[encoded data removed]",
      "text/plain": [
       "<Figure size 432x288 with 1 Axes>"
      ]
     },
     "metadata": {
      "needs_background": "light"
     },
     "output_type": "display_data"
    }
   ],
   "source": [
    "model.fit(X_train_norm, y_train) # Training SVM\n",
    "y_pred = model.predict(X_test_norm) # Predicting labels for our test set using trained model\n",
    "evaluate_on_training_set(y_test, y_pred) #evaluate our model using newly defined funct"
   ]
  },
  {
   "cell_type": "markdown",
   "metadata": {
    "colab_type": "text",
    "id": "Ssew1Y4f_O-x"
   },
   "source": [
    "##### optimizing SVM using GridSearch \n",
    "Were you expecting better results from such a powerful model? Let's tweek the parameters to improve our accuracy...\n",
    "\n",
    "We will be using Grid Search to tune parameters and try a range: \n",
    "- with kernel rbf, try varying gamma (which is a coefficient in the rbf kernel) to be 1e-3 or 1e-4; and vary C to be 1, 10, or 100.\n",
    "- with linear kernel (there is no gamma here), try varying C to be 1, 10, and 100.\n",
    "\n",
    "These values are stored as tuned_parameters. "
   ]
  },
  {
   "cell_type": "code",
   "execution_count": 150,
   "metadata": {
    "ExecuteTime": {
     "end_time": "2019-10-18T02:57:43.511192Z",
     "start_time": "2019-10-18T02:57:43.506968Z"
    },
    "colab": {},
    "colab_type": "code",
    "id": "tCvou1fXTa7l"
   },
   "outputs": [],
   "source": [
    "from sklearn.model_selection import GridSearchCV\n",
    "from sklearn.metrics import classification_report\n",
    "tuned_parameters = [{'kernel': ['rbf'],\n",
    "'gamma': [1e-3, 1e-4],\n",
    "'C': [1, 10, 100]},\n",
    "{'kernel': ['linear'],\n",
    "'C': [1, 10, 100]}]"
   ]
  },
  {
   "cell_type": "markdown",
   "metadata": {
    "colab_type": "text",
    "id": "RjX_fJEgTa21"
   },
   "source": [
    "Using the above parameters, we can run a GridSearch algorithm to optimize the AUC score. The verbose output will output the process; n_jobs will parallize the computation over 4 processors; 2-fold CV is used during the search (cv = 2). "
   ]
  },
  {
   "cell_type": "code",
   "execution_count": 151,
   "metadata": {
    "ExecuteTime": {
     "end_time": "2019-10-18T02:57:46.814309Z",
     "start_time": "2019-10-18T02:57:43.513143Z"
    },
    "colab": {},
    "colab_type": "code",
    "id": "iPzkCidqTaxS"
   },
   "outputs": [
    {
     "name": "stdout",
     "output_type": "stream",
     "text": [
      "Fitting 2 folds for each of 9 candidates, totalling 18 fits\n"
     ]
    },
    {
     "name": "stderr",
     "output_type": "stream",
     "text": [
      "[Parallel(n_jobs=4)]: Using backend LokyBackend with 4 concurrent workers.\n",
      "[Parallel(n_jobs=4)]: Done  18 out of  18 | elapsed:    3.3s finished\n"
     ]
    },
    {
     "data": {
      "text/plain": [
       "GridSearchCV(cv=2, error_score='raise-deprecating',\n",
       "             estimator=SVC(C=1.0, cache_size=200, class_weight=None, coef0=0.0,\n",
       "                           decision_function_shape='ovr', degree=3,\n",
       "                           gamma='auto_deprecated', kernel='rbf', max_iter=-1,\n",
       "                           probability=False, random_state=None, shrinking=True,\n",
       "                           tol=0.001, verbose=False),\n",
       "             iid='warn', n_jobs=4,\n",
       "             param_grid=[{'C': [1, 10, 100], 'gamma': [0.001, 0.0001],\n",
       "                          'kernel': ['rbf']},\n",
       "                         {'C': [1, 10, 100], 'kernel': ['linear']}],\n",
       "             pre_dispatch='2*n_jobs', refit=True, return_train_score=False,\n",
       "             scoring='roc_auc', verbose=1)"
      ]
     },
     "execution_count": 151,
     "metadata": {},
     "output_type": "execute_result"
    }
   ],
   "source": [
    "# we define the grid search model for SVM:\n",
    "clf = GridSearchCV(SVC(), tuned_parameters, cv=2,\n",
    "scoring='roc_auc', verbose=1, n_jobs=4)\n",
    "# train the model on the training set:\n",
    "clf.fit(X_train_norm, y_train)"
   ]
  },
  {
   "cell_type": "markdown",
   "metadata": {
    "colab_type": "text",
    "id": "K7wpv63TisBw"
   },
   "source": [
    "Once this is trained we can again look at what the best parameters are and how well the model performs. "
   ]
  },
  {
   "cell_type": "code",
   "execution_count": 152,
   "metadata": {
    "ExecuteTime": {
     "end_time": "2019-10-18T02:57:47.161274Z",
     "start_time": "2019-10-18T02:57:46.818522Z"
    },
    "colab": {},
    "colab_type": "code",
    "id": "48-O9Iz3irgy"
   },
   "outputs": [
    {
     "name": "stdout",
     "output_type": "stream",
     "text": [
      "Best parameter set found on development set:\n",
      "{'C': 10, 'kernel': 'linear'} \n",
      "\n",
      "AUC is:  0.8210831721470019\n",
      "              precision    recall  f1-score   support\n",
      "\n",
      "           0       0.89      0.73      0.80        44\n",
      "           1       0.78      0.91      0.84        47\n",
      "\n",
      "    accuracy                           0.82        91\n",
      "   macro avg       0.84      0.82      0.82        91\n",
      "weighted avg       0.83      0.82      0.82        91\n",
      "\n",
      "Confusion Matrix: \n",
      " [[32 12]\n",
      " [ 4 43]]\n"
     ]
    },
    {
     "data": {
      "image/png": "[encoded data removed]",
      "text/plain": [
       "<Figure size 432x288 with 1 Axes>"
      ]
     },
     "metadata": {
      "needs_background": "light"
     },
     "output_type": "display_data"
    }
   ],
   "source": [
    "# Show best parameters:\n",
    "print(\"Best parameter set found on development set:\")\n",
    "print(clf.best_params_, '\\n')\n",
    "y_pred = clf.predict(X_test_norm) #create predictions\n",
    "evaluate_on_training_set(y_test, y_pred) # evaluate like we always do"
   ]
  },
  {
   "cell_type": "markdown",
   "metadata": {
    "colab_type": "text",
    "id": "shn7lQyfAwZI"
   },
   "source": [
    "### Model 5: AdaBoostClassifier (Ensemble method)\n",
    "\n",
    "Ensemble models such as AdaBoost build multiple models and leverage the output to get a better result (most of the time). Sklearn tells us that: \"AdaBoost is a meta-estimator that begins by fitting a classifier on the original dataset and then fits additional copies of the classifier on the same dataset but where the weights of incorrectly classified instances are adjusted such that subsequent classifiers focus more on difficult cases.\"\n",
    "\n",
    "Let's define our model and set some parameters, learning rate can vary from 0 to 1; and n_estimators is the number of times a model is built. "
   ]
  },
  {
   "cell_type": "code",
   "execution_count": 153,
   "metadata": {
    "ExecuteTime": {
     "end_time": "2019-10-18T02:57:47.168098Z",
     "start_time": "2019-10-18T02:57:47.164172Z"
    },
    "colab": {},
    "colab_type": "code",
    "id": "_UweHzVKAwZi"
   },
   "outputs": [],
   "source": [
    "from sklearn.ensemble import AdaBoostClassifier\n",
    "model = AdaBoostClassifier(n_estimators=1000, learning_rate=0.1) # Define the model"
   ]
  },
  {
   "cell_type": "markdown",
   "metadata": {
    "colab_type": "text",
    "id": "oIQpSZURAwZx"
   },
   "source": [
    "How does it perform? "
   ]
  },
  {
   "cell_type": "code",
   "execution_count": 154,
   "metadata": {
    "ExecuteTime": {
     "end_time": "2019-10-18T02:57:50.133145Z",
     "start_time": "2019-10-18T02:57:47.170421Z"
    },
    "colab": {},
    "colab_type": "code",
    "id": "b62R66_EAwaE"
   },
   "outputs": [
    {
     "name": "stdout",
     "output_type": "stream",
     "text": [
      "AUC is:  0.8239845261121856\n",
      "              precision    recall  f1-score   support\n",
      "\n",
      "           0       0.82      0.82      0.82        44\n",
      "           1       0.83      0.83      0.83        47\n",
      "\n",
      "    accuracy                           0.82        91\n",
      "   macro avg       0.82      0.82      0.82        91\n",
      "weighted avg       0.82      0.82      0.82        91\n",
      "\n",
      "Confusion Matrix: \n",
      " [[36  8]\n",
      " [ 8 39]]\n"
     ]
    },
    {
     "data": {
      "image/png": "[encoded data removed]",
      "text/plain": [
       "<Figure size 432x288 with 1 Axes>"
      ]
     },
     "metadata": {
      "needs_background": "light"
     },
     "output_type": "display_data"
    }
   ],
   "source": [
    "model.fit(X_train_norm, y_train) # Training the model\n",
    "y_pred = model.predict(X_test_norm) # Predicting labels for our test set using trained model\n",
    "evaluate_on_training_set(y_test, y_pred) #evaluate our model using newly defined funct"
   ]
  },
  {
   "cell_type": "markdown",
   "metadata": {
    "colab_type": "text",
    "id": "1xbMP0yiBSXH"
   },
   "source": [
    "### Model 6: RandomForestClassifier\n",
    "\n",
    "Another ensemble classifier is Random Forest, which takes a bagging approach. We define the model: "
   ]
  },
  {
   "cell_type": "code",
   "execution_count": 155,
   "metadata": {
    "ExecuteTime": {
     "end_time": "2019-10-18T02:57:50.141605Z",
     "start_time": "2019-10-18T02:57:50.135836Z"
    },
    "colab": {},
    "colab_type": "code",
    "id": "kzrmpvqnBNWZ"
   },
   "outputs": [],
   "source": [
    "from sklearn.ensemble import RandomForestClassifier\n",
    "model = RandomForestClassifier(n_estimators = 50) # Define the model"
   ]
  },
  {
   "cell_type": "markdown",
   "metadata": {
    "colab_type": "text",
    "id": "6OzZd-UoBNWW"
   },
   "source": [
    "You can experiment with the parameters above (n_estimators is how many trees there are in the model), until you get good results. More parameters about the trees can be found [here](https://scikit-learn.org/stable/modules/generated/sklearn.ensemble.RandomForestClassifier.html). "
   ]
  },
  {
   "cell_type": "code",
   "execution_count": 156,
   "metadata": {
    "ExecuteTime": {
     "end_time": "2019-10-18T02:57:50.574858Z",
     "start_time": "2019-10-18T02:57:50.145331Z"
    },
    "colab": {},
    "colab_type": "code",
    "id": "mydCJ77ZBNWi"
   },
   "outputs": [
    {
     "name": "stdout",
     "output_type": "stream",
     "text": [
      "AUC is:  0.8218085106382979\n",
      "              precision    recall  f1-score   support\n",
      "\n",
      "           0       0.87      0.75      0.80        44\n",
      "           1       0.79      0.89      0.84        47\n",
      "\n",
      "    accuracy                           0.82        91\n",
      "   macro avg       0.83      0.82      0.82        91\n",
      "weighted avg       0.83      0.82      0.82        91\n",
      "\n",
      "Confusion Matrix: \n",
      " [[33 11]\n",
      " [ 5 42]]\n"
     ]
    },
    {
     "data": {
      "image/png": "[encoded data removed]",
      "text/plain": [
       "<Figure size 432x288 with 1 Axes>"
      ]
     },
     "metadata": {
      "needs_background": "light"
     },
     "output_type": "display_data"
    }
   ],
   "source": [
    "model.fit(X_train_norm, y_train) # Training the model\n",
    "y_pred = model.predict(X_test_norm) # Predicting labels for our test set using trained model\n",
    "evaluate_on_training_set(y_test, y_pred) #evaluate our model using newly defined funct"
   ]
  },
  {
   "cell_type": "markdown",
   "metadata": {
    "colab_type": "text",
    "id": "gVcGUR7QBNWq"
   },
   "source": [
    "This is an excellent model and trained quite fast. "
   ]
  },
  {
   "cell_type": "markdown",
   "metadata": {
    "colab_type": "text",
    "id": "ENhvgZA-cUyB"
   },
   "source": [
    "# Let's try on a new dataset..."
   ]
  },
  {
   "cell_type": "markdown",
   "metadata": {
    "colab_type": "text",
    "id": "hN8PoYrvlLUT"
   },
   "source": [
    "Find the best performing model to predict student's academic performance and the following dataset: https://www.kaggle.com/aljarah/xAPI-Edu-Data. The goal is to estimate the grade level of the student: \n",
    "\n",
    "The students are grouped into three numerical intervals based on their total grade/mark:\n",
    "* Low-Level: interval includes values from 0 to 69,\n",
    "* Middle-Level: interval includes values from 70 to 89,\n",
    "* High-Level: interval includes values from 90-100.\n",
    "\n",
    "Some steps for you to follow: \n",
    "\n",
    "1. Load the csv file as dataframe directly from\n",
    "\n",
    " https://dorienherremans.com/drop/CDS/classification/xAPI-Edu-Data.csv\n",
    "2. Check if columns are recognised as categorical, is not, change them to categorical with the command: \n",
    "\n",
    "for key in ['gender','NationalITy','PlaceofBirth','StageID','GradeID','SectionID','Topic','Semester',\n",
    "'Relation',\n",
    "\n",
    "'ParentAnsweringSurvey','ParentschoolSatisfaction',\n",
    "'StudentAbsenceDays','Class']:\n",
    "\n",
    "    data[key] = pd.Categorical(data[key])\n",
    "    data[key] = data[key].cat.codes\n",
    "\n",
    "3. Preprocess the data to create a normalized training set with 30% split.\n",
    "4. Train and evaluate multiple models to find the best classifier. \n",
    "\n",
    "IMPORTANT: Evaluate **only** in terms of classification_report and confusion matrix. (No need for AUC and ROC here, as we are doing multiclass classification, the target label would need to be binarized first, which we are not doing.)\n",
    "\n",
    "We are trying to reach the **best recall performance** for predicting high grade students (class 0), in other words: number of correctly predicted high grade students over the total number of high grade students. \n",
    "\n",
    "**Fill in your best performing recall score for class 0 in our high score list: \n",
    "https://forms.gle/wquRxxjVBfgnVtht8**\n"
   ]
  },
  {
   "cell_type": "code",
   "execution_count": 157,
   "metadata": {
    "ExecuteTime": {
     "end_time": "2019-10-18T02:57:52.096505Z",
     "start_time": "2019-10-18T02:57:50.577599Z"
    },
    "colab": {},
    "colab_type": "code",
    "id": "8BjcZHuoYbWk"
   },
   "outputs": [
    {
     "name": "stdout",
     "output_type": "stream",
     "text": [
      "Will not apply HSTS. The HSTS database must be a regular and non-world-writable file.\n",
      "ERROR: could not open HSTS store at '/home/ubuntu_wsl_kevin/.wget-hsts'. HSTS will be disabled.\n",
      "--2019-10-18 10:57:50--  https://dorienherremans.com/drop/CDS/classification/xAPI-Edu-Data.csv\n",
      "Resolving dorienherremans.com (dorienherremans.com)... 96.127.180.74\n",
      "Connecting to dorienherremans.com (dorienherremans.com)|96.127.180.74|:443... connected.\n",
      "HTTP request sent, awaiting response... 416 Requested range not satisfiable\n",
      "\n",
      "    The file is already fully retrieved; nothing to do.\n",
      "\n"
     ]
    },
    {
     "data": {
      "text/html": [
       "<div>\n",
       "<style scoped>\n",
       "    .dataframe tbody tr th:only-of-type {\n",
       "        vertical-align: middle;\n",
       "    }\n",
       "\n",
       "    .dataframe tbody tr th {\n",
       "        vertical-align: top;\n",
       "    }\n",
       "\n",
       "    .dataframe thead th {\n",
       "        text-align: right;\n",
       "    }\n",
       "</style>\n",
       "<table border=\"1\" class=\"dataframe\">\n",
       "  <thead>\n",
       "    <tr style=\"text-align: right;\">\n",
       "      <th></th>\n",
       "      <th>gender</th>\n",
       "      <th>NationalITy</th>\n",
       "      <th>PlaceofBirth</th>\n",
       "      <th>StageID</th>\n",
       "      <th>GradeID</th>\n",
       "      <th>SectionID</th>\n",
       "      <th>Topic</th>\n",
       "      <th>Semester</th>\n",
       "      <th>Relation</th>\n",
       "      <th>raisedhands</th>\n",
       "      <th>VisITedResources</th>\n",
       "      <th>AnnouncementsView</th>\n",
       "      <th>Discussion</th>\n",
       "      <th>ParentAnsweringSurvey</th>\n",
       "      <th>ParentschoolSatisfaction</th>\n",
       "      <th>StudentAbsenceDays</th>\n",
       "      <th>Class</th>\n",
       "    </tr>\n",
       "  </thead>\n",
       "  <tbody>\n",
       "    <tr>\n",
       "      <td>0</td>\n",
       "      <td>M</td>\n",
       "      <td>KW</td>\n",
       "      <td>KuwaIT</td>\n",
       "      <td>lowerlevel</td>\n",
       "      <td>G-04</td>\n",
       "      <td>A</td>\n",
       "      <td>IT</td>\n",
       "      <td>F</td>\n",
       "      <td>Father</td>\n",
       "      <td>15</td>\n",
       "      <td>16</td>\n",
       "      <td>2</td>\n",
       "      <td>20</td>\n",
       "      <td>Yes</td>\n",
       "      <td>Good</td>\n",
       "      <td>Under-7</td>\n",
       "      <td>M</td>\n",
       "    </tr>\n",
       "    <tr>\n",
       "      <td>1</td>\n",
       "      <td>M</td>\n",
       "      <td>KW</td>\n",
       "      <td>KuwaIT</td>\n",
       "      <td>lowerlevel</td>\n",
       "      <td>G-04</td>\n",
       "      <td>A</td>\n",
       "      <td>IT</td>\n",
       "      <td>F</td>\n",
       "      <td>Father</td>\n",
       "      <td>20</td>\n",
       "      <td>20</td>\n",
       "      <td>3</td>\n",
       "      <td>25</td>\n",
       "      <td>Yes</td>\n",
       "      <td>Good</td>\n",
       "      <td>Under-7</td>\n",
       "      <td>M</td>\n",
       "    </tr>\n",
       "    <tr>\n",
       "      <td>2</td>\n",
       "      <td>M</td>\n",
       "      <td>KW</td>\n",
       "      <td>KuwaIT</td>\n",
       "      <td>lowerlevel</td>\n",
       "      <td>G-04</td>\n",
       "      <td>A</td>\n",
       "      <td>IT</td>\n",
       "      <td>F</td>\n",
       "      <td>Father</td>\n",
       "      <td>10</td>\n",
       "      <td>7</td>\n",
       "      <td>0</td>\n",
       "      <td>30</td>\n",
       "      <td>No</td>\n",
       "      <td>Bad</td>\n",
       "      <td>Above-7</td>\n",
       "      <td>L</td>\n",
       "    </tr>\n",
       "    <tr>\n",
       "      <td>3</td>\n",
       "      <td>M</td>\n",
       "      <td>KW</td>\n",
       "      <td>KuwaIT</td>\n",
       "      <td>lowerlevel</td>\n",
       "      <td>G-04</td>\n",
       "      <td>A</td>\n",
       "      <td>IT</td>\n",
       "      <td>F</td>\n",
       "      <td>Father</td>\n",
       "      <td>30</td>\n",
       "      <td>25</td>\n",
       "      <td>5</td>\n",
       "      <td>35</td>\n",
       "      <td>No</td>\n",
       "      <td>Bad</td>\n",
       "      <td>Above-7</td>\n",
       "      <td>L</td>\n",
       "    </tr>\n",
       "    <tr>\n",
       "      <td>4</td>\n",
       "      <td>M</td>\n",
       "      <td>KW</td>\n",
       "      <td>KuwaIT</td>\n",
       "      <td>lowerlevel</td>\n",
       "      <td>G-04</td>\n",
       "      <td>A</td>\n",
       "      <td>IT</td>\n",
       "      <td>F</td>\n",
       "      <td>Father</td>\n",
       "      <td>40</td>\n",
       "      <td>50</td>\n",
       "      <td>12</td>\n",
       "      <td>50</td>\n",
       "      <td>No</td>\n",
       "      <td>Bad</td>\n",
       "      <td>Above-7</td>\n",
       "      <td>M</td>\n",
       "    </tr>\n",
       "  </tbody>\n",
       "</table>\n",
       "</div>"
      ],
      "text/plain": [
       "  gender NationalITy PlaceofBirth     StageID GradeID SectionID Topic  \\\n",
       "0      M          KW       KuwaIT  lowerlevel    G-04         A    IT   \n",
       "1      M          KW       KuwaIT  lowerlevel    G-04         A    IT   \n",
       "2      M          KW       KuwaIT  lowerlevel    G-04         A    IT   \n",
       "3      M          KW       KuwaIT  lowerlevel    G-04         A    IT   \n",
       "4      M          KW       KuwaIT  lowerlevel    G-04         A    IT   \n",
       "\n",
       "  Semester Relation  raisedhands  VisITedResources  AnnouncementsView  \\\n",
       "0        F   Father           15                16                  2   \n",
       "1        F   Father           20                20                  3   \n",
       "2        F   Father           10                 7                  0   \n",
       "3        F   Father           30                25                  5   \n",
       "4        F   Father           40                50                 12   \n",
       "\n",
       "   Discussion ParentAnsweringSurvey ParentschoolSatisfaction  \\\n",
       "0          20                   Yes                     Good   \n",
       "1          25                   Yes                     Good   \n",
       "2          30                    No                      Bad   \n",
       "3          35                    No                      Bad   \n",
       "4          50                    No                      Bad   \n",
       "\n",
       "  StudentAbsenceDays Class  \n",
       "0            Under-7     M  \n",
       "1            Under-7     M  \n",
       "2            Above-7     L  \n",
       "3            Above-7     L  \n",
       "4            Above-7     M  "
      ]
     },
     "execution_count": 157,
     "metadata": {},
     "output_type": "execute_result"
    }
   ],
   "source": [
    "# Download the csv file to your root folder:\n",
    "!wget -P / -c 'https://dorienherremans.com/drop/CDS/classification/xAPI-Edu-Data.csv'\n",
    "data = pd.read_csv('xAPI-Edu-Data.csv') # loading dataset\n",
    "data.head() #check if it's loaded correctly"
   ]
  },
  {
   "cell_type": "code",
   "execution_count": 158,
   "metadata": {
    "ExecuteTime": {
     "end_time": "2019-10-18T02:57:52.120100Z",
     "start_time": "2019-10-18T02:57:52.104786Z"
    }
   },
   "outputs": [],
   "source": [
    "def evaluate_on_training_set_new(y_test, y_pred):  \n",
    "    # print out recall and precision\n",
    "    print(classification_report(y_test, y_pred))\n",
    "    # print out confusion matrix\n",
    "    print(\"Confusion Matrix: \\n\", confusion_matrix(y_test, y_pred))   \n",
    "    # Plot ROC curve    \n",
    "    plt.plot([0, 1], [0, 1], 'k--') # random predictions curve\n",
    "    plt.xlim([0.0, 1.0])\n",
    "    plt.ylim([0.0, 1.0])\n",
    "    plt.xlabel('False Positive Rate or (1 - Specifity)')\n",
    "    plt.ylabel('True Positive Rate or (Sensitivity)')\n",
    "    plt.title('Receiver Operating Characteristic')"
   ]
  },
  {
   "cell_type": "markdown",
   "metadata": {
    "colab_type": "text",
    "id": "KCDWq6MXxLPw"
   },
   "source": [
    "Helpful code to categorise the attributes (and save you typing time): "
   ]
  },
  {
   "cell_type": "code",
   "execution_count": 159,
   "metadata": {
    "ExecuteTime": {
     "end_time": "2019-10-18T02:57:52.199785Z",
     "start_time": "2019-10-18T02:57:52.127505Z"
    },
    "colab": {},
    "colab_type": "code",
    "id": "UgE5EN9AxLW-"
   },
   "outputs": [
    {
     "name": "stdout",
     "output_type": "stream",
     "text": [
      "   gender  NationalITy  PlaceofBirth  StageID  GradeID  SectionID  Topic  \\\n",
      "0       1            4             4        2        1          0      7   \n",
      "1       1            4             4        2        1          0      7   \n",
      "2       1            4             4        2        1          0      7   \n",
      "3       1            4             4        2        1          0      7   \n",
      "4       1            4             4        2        1          0      7   \n",
      "\n",
      "   Semester  Relation  raisedhands  VisITedResources  AnnouncementsView  \\\n",
      "0         0         0           15                16                  2   \n",
      "1         0         0           20                20                  3   \n",
      "2         0         0           10                 7                  0   \n",
      "3         0         0           30                25                  5   \n",
      "4         0         0           40                50                 12   \n",
      "\n",
      "   Discussion  ParentAnsweringSurvey  ParentschoolSatisfaction  \\\n",
      "0          20                      1                         1   \n",
      "1          25                      1                         1   \n",
      "2          30                      0                         0   \n",
      "3          35                      0                         0   \n",
      "4          50                      0                         0   \n",
      "\n",
      "   StudentAbsenceDays  Class  \n",
      "0                   1      2  \n",
      "1                   1      2  \n",
      "2                   0      1  \n",
      "3                   0      1  \n",
      "4                   0      2  \n"
     ]
    }
   ],
   "source": [
    "for key in ['gender','NationalITy','PlaceofBirth','StageID','GradeID','SectionID','Topic','Semester','Relation','ParentAnsweringSurvey','ParentschoolSatisfaction','StudentAbsenceDays','Class']:\n",
    "\n",
    "    data[key] = pd.Categorical(data[key])\n",
    "    data[key] = data[key].cat.codes\n",
    "\n",
    "print(data.head())"
   ]
  },
  {
   "cell_type": "code",
   "execution_count": 160,
   "metadata": {
    "ExecuteTime": {
     "end_time": "2019-10-18T02:57:55.441171Z",
     "start_time": "2019-10-18T02:57:52.202847Z"
    }
   },
   "outputs": [
    {
     "name": "stdout",
     "output_type": "stream",
     "text": [
      "              precision    recall  f1-score   support\n",
      "\n",
      "           0       0.56      0.64      0.60        39\n",
      "           1       0.86      0.91      0.89        34\n",
      "           2       0.73      0.65      0.69        71\n",
      "\n",
      "    accuracy                           0.71       144\n",
      "   macro avg       0.72      0.73      0.72       144\n",
      "weighted avg       0.71      0.71      0.71       144\n",
      "\n",
      "Confusion Matrix: \n",
      " [[25  0 14]\n",
      " [ 0 31  3]\n",
      " [20  5 46]]\n"
     ]
    },
    {
     "data": {
      "image/png": "[encoded data removed]",
      "text/plain": [
       "<Figure size 432x288 with 1 Axes>"
      ]
     },
     "metadata": {
      "needs_background": "light"
     },
     "output_type": "display_data"
    }
   ],
   "source": [
    "X_train, X_test, y_train, y_test = train_test_split(\n",
    "    data.drop('Class',1),\n",
    "    data['Class'],\n",
    "    test_size=0.3,\n",
    "    random_state=0)\n",
    "\n",
    "model = AdaBoostClassifier(n_estimators=1000, learning_rate=0.1) # Define the model\n",
    "model.fit(X_train, y_train) # Training the model\n",
    "y_pred = model.predict(X_test) # Predicting labels for our test set using trained model\n",
    "evaluate_on_training_set_new(y_test, y_pred) #evaluate our model using newly defined funct\n",
    "\n",
    "\n",
    "# from sklearn.ensemble import RandomForestClassifier\n",
    "# model = RandomForestClassifier(n_estimators = 50) # Define the model\n",
    "# model.fit(X_train, y_train) # Training the model\n",
    "# y_pred = model.predict(X_test) # Predicting labels for our test set using trained model\n",
    "# evaluate_on_training_set(y_test, y_pred) #evaluate our model using newly defined funct"
   ]
  }
 ],
 "metadata": {
  "colab": {
   "collapsed_sections": [],
   "name": "Classification lab no solution",
   "provenance": []
  },
  "kernelspec": {
   "display_name": "Python 3",
   "language": "python",
   "name": "python3"
  },
  "language_info": {
   "codemirror_mode": {
    "name": "ipython",
    "version": 3
   },
   "file_extension": ".py",
   "mimetype": "text/x-python",
   "name": "python",
   "nbconvert_exporter": "python",
   "pygments_lexer": "ipython3",
   "version": "3.7.4"
  }
 },
 "nbformat": 4,
 "nbformat_minor": 1
}
